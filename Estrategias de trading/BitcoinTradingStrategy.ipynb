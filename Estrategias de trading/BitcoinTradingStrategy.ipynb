{
  "nbformat": 4,
  "nbformat_minor": 0,
  "metadata": {
    "colab": {
      "name": "BitcoinTradingStrategy.ipynb",
      "provenance": [],
      "collapsed_sections": [],
      "authorship_tag": "ABX9TyOyaUsLEshuSrnxEP/pzE++",
      "include_colab_link": true
    },
    "kernelspec": {
      "name": "python3",
      "display_name": "Python 3"
    },
    "language_info": {
      "name": "python"
    }
  },
  "cells": [
    {
      "cell_type": "markdown",
      "metadata": {
        "id": "view-in-github",
        "colab_type": "text"
      },
      "source": [
        "<a href=\"https://colab.research.google.com/github/Jushef/Cryptocurrency/blob/main/Estrategias%20de%20trading/BitcoinTradingStrategy.ipynb\" target=\"_parent\"><img src=\"https://colab.research.google.com/assets/colab-badge.svg\" alt=\"Open In Colab\"/></a>"
      ]
    },
    {
      "cell_type": "markdown",
      "source": [
        "# **Predicción del precio del Bitcoin**\n",
        "El objetivo de este proyecto es utilizar modelos basados en la clasificación para predecir si la señal actual es de compra o de venta en función del precio a corto plazo frente al precio a largo plazo."
      ],
      "metadata": {
        "id": "2uuHGTzw5Em1"
      }
    },
    {
      "cell_type": "markdown",
      "source": [
        "##**Content**"
      ],
      "metadata": {
        "id": "PlATWoDc6Q9u"
      }
    },
    {
      "cell_type": "markdown",
      "source": [
        "* [1. Problem Definition](#0)\n",
        "* [2. Getting Started - Load Libraries and Dataset](#1)\n",
        "    * [2.1. Load Libraries](#1.1)    \n",
        "    * [2.2. Load Dataset](#1.2)\n",
        "* [3. Exploratory Data Analysis](#2)\n",
        "    * [3.1 Descriptive Statistics](#2.1) \n",
        "* [4. Data Preparation](#3)\n",
        "    * [4.1 Data Cleaning](#3.1)\n",
        "    * [4.2. Preparing classification data](#3.2)\n",
        "    * [4.3. Feature Engineering-Constructing Technical Indicators](#3.3)\n",
        "    * [4.4.Data Visualisation](#3.4)\n",
        "* [5.Evaluate Algorithms and Models](#4)        \n",
        "    * [5.1. Train/Test Split](#4.1)\n",
        "    * [5.2. Test Options and Evaluation Metrics](#4.2)\n",
        "    * [5.3. Compare Models and Algorithms](#4.3) \n",
        "* [6. Model Tuning and Grid Search](#5)  \n",
        "* [7. Finalize the Model](#6)  \n",
        "    * [7.1. Results on test dataset](#6.1)\n",
        "    * [7.1. Variable Intuition/Feature Selection](#6.2) \n",
        "* [8. Backtesting](#7) "
      ],
      "metadata": {
        "id": "UrdOR-zS6TDM"
      }
    },
    {
      "cell_type": "markdown",
      "source": [
        "<a id='0'></a>\n",
        "# 1. Definición del problema"
      ],
      "metadata": {
        "id": "uOxi-BQy6iWp"
      }
    },
    {
      "cell_type": "markdown",
      "source": [
        "El problema de predecir una señal de compra o de venta para una estrategia de negociación se define en el marco de la clasificación, donde la variable predicha tiene un valor de 1 para la compra y de 0 para la venta.\n",
        "\n",
        "La señal de compra o de venta se decide sobre la base de la comparación del precio a corto plazo con el precio a largo plazo.\n",
        "\n",
        "Para el caso de estudio presentado, obtenemos los datos de una de las mayores bolsas de Bit-coin en términos de volumen medio diario negociado: Bitstamp (https:// www.bitstamp.com). Los datos pueden encontrarse en: https://www.kaggle.com/mczielinski/bitcoin-historical-data"
      ],
      "metadata": {
        "id": "Yq84Sr8h6o4-"
      }
    },
    {
      "cell_type": "markdown",
      "source": [
        "<a id='1'></a>\n",
        "# 2. Primeros pasos - Cargar los datos y los paquetes de Python"
      ],
      "metadata": {
        "id": "zNJgNw907OaG"
      }
    },
    {
      "cell_type": "markdown",
      "source": [
        "<a id='1.1'></a>\n",
        "## 2.1. Carga de los paquetes python"
      ],
      "metadata": {
        "id": "WpfmK1Dg7Y-b"
      }
    },
    {
      "cell_type": "code",
      "source": [
        "# Carga de bibliotecas\n",
        "import numpy as np\n",
        "import pandas as pd\n",
        "import matplotlib.pyplot as plt\n",
        "from pandas import read_csv, set_option\n",
        "from pandas.plotting import scatter_matrix\n",
        "import seaborn as sns\n",
        "from sklearn.preprocessing import StandardScaler\n",
        "from sklearn.model_selection import train_test_split, KFold, cross_val_score, GridSearchCV\n",
        "from sklearn.linear_model import LogisticRegression\n",
        "from sklearn.tree import DecisionTreeClassifier\n",
        "from sklearn.neighbors import KNeighborsClassifier\n",
        "from sklearn.discriminant_analysis import LinearDiscriminantAnalysis\n",
        "from sklearn.naive_bayes import GaussianNB\n",
        "from sklearn.svm import SVC\n",
        "from sklearn.neural_network import MLPClassifier\n",
        "from sklearn.pipeline import Pipeline\n",
        "from sklearn.ensemble import AdaBoostClassifier, GradientBoostingClassifier, RandomForestClassifier, ExtraTreesClassifier\n",
        "from sklearn.metrics import classification_report, confusion_matrix, accuracy_score\n",
        "\n",
        "# Bibliotecas para modelos de aprendizaje profundo\n",
        "from tensorflow.keras.models import Sequential\n",
        "from tensorflow.keras.layers import Dense\n",
        "from tensorflow.keras.wrappers.scikit_learn import KerasClassifier\n",
        "from tensorflow.keras.optimizers import SGD"
      ],
      "metadata": {
        "id": "-k_sWRfY3Qrm"
      },
      "execution_count": 8,
      "outputs": []
    },
    {
      "cell_type": "markdown",
      "source": [
        "<a id='1.2'></a>\n",
        "## 2.2. Cargando datos"
      ],
      "metadata": {
        "id": "hi9oAmQm73X0"
      }
    },
    {
      "cell_type": "code",
      "source": [
        "dataset = pd.read_csv('/content/bitstampUSD_1-min_data_2012-01-01_to_2021-03-31.csv')"
      ],
      "metadata": {
        "id": "iwHDyJUE7xy-"
      },
      "execution_count": 9,
      "outputs": []
    },
    {
      "cell_type": "code",
      "source": [
        "import warnings\n",
        "warnings.filterwarnings('ignore')"
      ],
      "metadata": {
        "id": "Izi1r1lY_-uX"
      },
      "execution_count": 10,
      "outputs": []
    },
    {
      "cell_type": "markdown",
      "source": [
        "<a id='2'></a>\n",
        "# 3. Análisis exploratorio de datos"
      ],
      "metadata": {
        "id": "Koek-o41__bf"
      }
    },
    {
      "cell_type": "markdown",
      "source": [
        "<a id='2.1'></a>\n",
        "## 3.1. Estadísticas descriptivas"
      ],
      "metadata": {
        "id": "khRIkp0TAND9"
      }
    },
    {
      "cell_type": "code",
      "source": [
        "dataset.shape"
      ],
      "metadata": {
        "colab": {
          "base_uri": "https://localhost:8080/"
        },
        "id": "3ahAHR4cAIOo",
        "outputId": "e74c1964-3ec7-4ccf-b30f-c598a277abdf"
      },
      "execution_count": 11,
      "outputs": [
        {
          "output_type": "execute_result",
          "data": {
            "text/plain": [
              "(4857377, 8)"
            ]
          },
          "metadata": {},
          "execution_count": 11
        }
      ]
    },
    {
      "cell_type": "code",
      "source": [
        "set_option('display.width', 100)\n",
        "dataset.tail(5)"
      ],
      "metadata": {
        "colab": {
          "base_uri": "https://localhost:8080/",
          "height": 206
        },
        "id": "T6tjIETAATO9",
        "outputId": "70fe7b99-3216-470a-f68a-2e41bb43cc1b"
      },
      "execution_count": 12,
      "outputs": [
        {
          "output_type": "execute_result",
          "data": {
            "text/html": [
              "\n",
              "  <div id=\"df-63052341-2e78-461d-a94f-876c390b1a80\">\n",
              "    <div class=\"colab-df-container\">\n",
              "      <div>\n",
              "<style scoped>\n",
              "    .dataframe tbody tr th:only-of-type {\n",
              "        vertical-align: middle;\n",
              "    }\n",
              "\n",
              "    .dataframe tbody tr th {\n",
              "        vertical-align: top;\n",
              "    }\n",
              "\n",
              "    .dataframe thead th {\n",
              "        text-align: right;\n",
              "    }\n",
              "</style>\n",
              "<table border=\"1\" class=\"dataframe\">\n",
              "  <thead>\n",
              "    <tr style=\"text-align: right;\">\n",
              "      <th></th>\n",
              "      <th>Timestamp</th>\n",
              "      <th>Open</th>\n",
              "      <th>High</th>\n",
              "      <th>Low</th>\n",
              "      <th>Close</th>\n",
              "      <th>Volume_(BTC)</th>\n",
              "      <th>Volume_(Currency)</th>\n",
              "      <th>Weighted_Price</th>\n",
              "    </tr>\n",
              "  </thead>\n",
              "  <tbody>\n",
              "    <tr>\n",
              "      <th>4857372</th>\n",
              "      <td>1617148560</td>\n",
              "      <td>58714.31</td>\n",
              "      <td>58714.31</td>\n",
              "      <td>58686.00</td>\n",
              "      <td>58686.00</td>\n",
              "      <td>1.384487</td>\n",
              "      <td>81259.372187</td>\n",
              "      <td>58692.753339</td>\n",
              "    </tr>\n",
              "    <tr>\n",
              "      <th>4857373</th>\n",
              "      <td>1617148620</td>\n",
              "      <td>58683.97</td>\n",
              "      <td>58693.43</td>\n",
              "      <td>58683.97</td>\n",
              "      <td>58685.81</td>\n",
              "      <td>7.294848</td>\n",
              "      <td>428158.146640</td>\n",
              "      <td>58693.226508</td>\n",
              "    </tr>\n",
              "    <tr>\n",
              "      <th>4857374</th>\n",
              "      <td>1617148680</td>\n",
              "      <td>58693.43</td>\n",
              "      <td>58723.84</td>\n",
              "      <td>58693.43</td>\n",
              "      <td>58723.84</td>\n",
              "      <td>1.705682</td>\n",
              "      <td>100117.070370</td>\n",
              "      <td>58696.198496</td>\n",
              "    </tr>\n",
              "    <tr>\n",
              "      <th>4857375</th>\n",
              "      <td>1617148740</td>\n",
              "      <td>58742.18</td>\n",
              "      <td>58770.38</td>\n",
              "      <td>58742.18</td>\n",
              "      <td>58760.59</td>\n",
              "      <td>0.720415</td>\n",
              "      <td>42332.958633</td>\n",
              "      <td>58761.866202</td>\n",
              "    </tr>\n",
              "    <tr>\n",
              "      <th>4857376</th>\n",
              "      <td>1617148800</td>\n",
              "      <td>58767.75</td>\n",
              "      <td>58778.18</td>\n",
              "      <td>58755.97</td>\n",
              "      <td>58778.18</td>\n",
              "      <td>2.712831</td>\n",
              "      <td>159417.751000</td>\n",
              "      <td>58764.349363</td>\n",
              "    </tr>\n",
              "  </tbody>\n",
              "</table>\n",
              "</div>\n",
              "      <button class=\"colab-df-convert\" onclick=\"convertToInteractive('df-63052341-2e78-461d-a94f-876c390b1a80')\"\n",
              "              title=\"Convert this dataframe to an interactive table.\"\n",
              "              style=\"display:none;\">\n",
              "        \n",
              "  <svg xmlns=\"http://www.w3.org/2000/svg\" height=\"24px\"viewBox=\"0 0 24 24\"\n",
              "       width=\"24px\">\n",
              "    <path d=\"M0 0h24v24H0V0z\" fill=\"none\"/>\n",
              "    <path d=\"M18.56 5.44l.94 2.06.94-2.06 2.06-.94-2.06-.94-.94-2.06-.94 2.06-2.06.94zm-11 1L8.5 8.5l.94-2.06 2.06-.94-2.06-.94L8.5 2.5l-.94 2.06-2.06.94zm10 10l.94 2.06.94-2.06 2.06-.94-2.06-.94-.94-2.06-.94 2.06-2.06.94z\"/><path d=\"M17.41 7.96l-1.37-1.37c-.4-.4-.92-.59-1.43-.59-.52 0-1.04.2-1.43.59L10.3 9.45l-7.72 7.72c-.78.78-.78 2.05 0 2.83L4 21.41c.39.39.9.59 1.41.59.51 0 1.02-.2 1.41-.59l7.78-7.78 2.81-2.81c.8-.78.8-2.07 0-2.86zM5.41 20L4 18.59l7.72-7.72 1.47 1.35L5.41 20z\"/>\n",
              "  </svg>\n",
              "      </button>\n",
              "      \n",
              "  <style>\n",
              "    .colab-df-container {\n",
              "      display:flex;\n",
              "      flex-wrap:wrap;\n",
              "      gap: 12px;\n",
              "    }\n",
              "\n",
              "    .colab-df-convert {\n",
              "      background-color: #E8F0FE;\n",
              "      border: none;\n",
              "      border-radius: 50%;\n",
              "      cursor: pointer;\n",
              "      display: none;\n",
              "      fill: #1967D2;\n",
              "      height: 32px;\n",
              "      padding: 0 0 0 0;\n",
              "      width: 32px;\n",
              "    }\n",
              "\n",
              "    .colab-df-convert:hover {\n",
              "      background-color: #E2EBFA;\n",
              "      box-shadow: 0px 1px 2px rgba(60, 64, 67, 0.3), 0px 1px 3px 1px rgba(60, 64, 67, 0.15);\n",
              "      fill: #174EA6;\n",
              "    }\n",
              "\n",
              "    [theme=dark] .colab-df-convert {\n",
              "      background-color: #3B4455;\n",
              "      fill: #D2E3FC;\n",
              "    }\n",
              "\n",
              "    [theme=dark] .colab-df-convert:hover {\n",
              "      background-color: #434B5C;\n",
              "      box-shadow: 0px 1px 3px 1px rgba(0, 0, 0, 0.15);\n",
              "      filter: drop-shadow(0px 1px 2px rgba(0, 0, 0, 0.3));\n",
              "      fill: #FFFFFF;\n",
              "    }\n",
              "  </style>\n",
              "\n",
              "      <script>\n",
              "        const buttonEl =\n",
              "          document.querySelector('#df-63052341-2e78-461d-a94f-876c390b1a80 button.colab-df-convert');\n",
              "        buttonEl.style.display =\n",
              "          google.colab.kernel.accessAllowed ? 'block' : 'none';\n",
              "\n",
              "        async function convertToInteractive(key) {\n",
              "          const element = document.querySelector('#df-63052341-2e78-461d-a94f-876c390b1a80');\n",
              "          const dataTable =\n",
              "            await google.colab.kernel.invokeFunction('convertToInteractive',\n",
              "                                                     [key], {});\n",
              "          if (!dataTable) return;\n",
              "\n",
              "          const docLinkHtml = 'Like what you see? Visit the ' +\n",
              "            '<a target=\"_blank\" href=https://colab.research.google.com/notebooks/data_table.ipynb>data table notebook</a>'\n",
              "            + ' to learn more about interactive tables.';\n",
              "          element.innerHTML = '';\n",
              "          dataTable['output_type'] = 'display_data';\n",
              "          await google.colab.output.renderOutput(dataTable, element);\n",
              "          const docLink = document.createElement('div');\n",
              "          docLink.innerHTML = docLinkHtml;\n",
              "          element.appendChild(docLink);\n",
              "        }\n",
              "      </script>\n",
              "    </div>\n",
              "  </div>\n",
              "  "
            ],
            "text/plain": [
              "          Timestamp      Open  ...  Volume_(Currency)  Weighted_Price\n",
              "4857372  1617148560  58714.31  ...       81259.372187    58692.753339\n",
              "4857373  1617148620  58683.97  ...      428158.146640    58693.226508\n",
              "4857374  1617148680  58693.43  ...      100117.070370    58696.198496\n",
              "4857375  1617148740  58742.18  ...       42332.958633    58761.866202\n",
              "4857376  1617148800  58767.75  ...      159417.751000    58764.349363\n",
              "\n",
              "[5 rows x 8 columns]"
            ]
          },
          "metadata": {},
          "execution_count": 12
        }
      ]
    },
    {
      "cell_type": "code",
      "source": [
        "set_option('precision', 3)\n",
        "dataset.describe()"
      ],
      "metadata": {
        "colab": {
          "base_uri": "https://localhost:8080/",
          "height": 300
        },
        "id": "i0Ry9R4gAWZs",
        "outputId": "2348005e-1167-4703-ca44-b13dbbe8ec8f"
      },
      "execution_count": 13,
      "outputs": [
        {
          "output_type": "execute_result",
          "data": {
            "text/html": [
              "\n",
              "  <div id=\"df-513d8577-be77-46e2-8c66-43f5a63e49e7\">\n",
              "    <div class=\"colab-df-container\">\n",
              "      <div>\n",
              "<style scoped>\n",
              "    .dataframe tbody tr th:only-of-type {\n",
              "        vertical-align: middle;\n",
              "    }\n",
              "\n",
              "    .dataframe tbody tr th {\n",
              "        vertical-align: top;\n",
              "    }\n",
              "\n",
              "    .dataframe thead th {\n",
              "        text-align: right;\n",
              "    }\n",
              "</style>\n",
              "<table border=\"1\" class=\"dataframe\">\n",
              "  <thead>\n",
              "    <tr style=\"text-align: right;\">\n",
              "      <th></th>\n",
              "      <th>Timestamp</th>\n",
              "      <th>Open</th>\n",
              "      <th>High</th>\n",
              "      <th>Low</th>\n",
              "      <th>Close</th>\n",
              "      <th>Volume_(BTC)</th>\n",
              "      <th>Volume_(Currency)</th>\n",
              "      <th>Weighted_Price</th>\n",
              "    </tr>\n",
              "  </thead>\n",
              "  <tbody>\n",
              "    <tr>\n",
              "      <th>count</th>\n",
              "      <td>4.857e+06</td>\n",
              "      <td>3.614e+06</td>\n",
              "      <td>3.614e+06</td>\n",
              "      <td>3.614e+06</td>\n",
              "      <td>3.614e+06</td>\n",
              "      <td>3.614e+06</td>\n",
              "      <td>3.614e+06</td>\n",
              "      <td>3.614e+06</td>\n",
              "    </tr>\n",
              "    <tr>\n",
              "      <th>mean</th>\n",
              "      <td>1.471e+09</td>\n",
              "      <td>6.009e+03</td>\n",
              "      <td>6.013e+03</td>\n",
              "      <td>6.004e+03</td>\n",
              "      <td>6.009e+03</td>\n",
              "      <td>9.323e+00</td>\n",
              "      <td>4.176e+04</td>\n",
              "      <td>6.009e+03</td>\n",
              "    </tr>\n",
              "    <tr>\n",
              "      <th>std</th>\n",
              "      <td>8.428e+07</td>\n",
              "      <td>8.996e+03</td>\n",
              "      <td>9.004e+03</td>\n",
              "      <td>8.989e+03</td>\n",
              "      <td>8.996e+03</td>\n",
              "      <td>3.055e+01</td>\n",
              "      <td>1.518e+05</td>\n",
              "      <td>8.996e+03</td>\n",
              "    </tr>\n",
              "    <tr>\n",
              "      <th>min</th>\n",
              "      <td>1.325e+09</td>\n",
              "      <td>3.800e+00</td>\n",
              "      <td>3.800e+00</td>\n",
              "      <td>1.500e+00</td>\n",
              "      <td>1.500e+00</td>\n",
              "      <td>0.000e+00</td>\n",
              "      <td>0.000e+00</td>\n",
              "      <td>3.800e+00</td>\n",
              "    </tr>\n",
              "    <tr>\n",
              "      <th>25%</th>\n",
              "      <td>1.398e+09</td>\n",
              "      <td>4.439e+02</td>\n",
              "      <td>4.440e+02</td>\n",
              "      <td>4.435e+02</td>\n",
              "      <td>4.439e+02</td>\n",
              "      <td>4.098e-01</td>\n",
              "      <td>4.521e+02</td>\n",
              "      <td>4.438e+02</td>\n",
              "    </tr>\n",
              "    <tr>\n",
              "      <th>50%</th>\n",
              "      <td>1.471e+09</td>\n",
              "      <td>3.597e+03</td>\n",
              "      <td>3.598e+03</td>\n",
              "      <td>3.596e+03</td>\n",
              "      <td>3.597e+03</td>\n",
              "      <td>1.980e+00</td>\n",
              "      <td>3.810e+03</td>\n",
              "      <td>3.597e+03</td>\n",
              "    </tr>\n",
              "    <tr>\n",
              "      <th>75%</th>\n",
              "      <td>1.544e+09</td>\n",
              "      <td>8.627e+03</td>\n",
              "      <td>8.633e+03</td>\n",
              "      <td>8.621e+03</td>\n",
              "      <td>8.627e+03</td>\n",
              "      <td>7.278e+00</td>\n",
              "      <td>2.570e+04</td>\n",
              "      <td>8.628e+03</td>\n",
              "    </tr>\n",
              "    <tr>\n",
              "      <th>max</th>\n",
              "      <td>1.617e+09</td>\n",
              "      <td>6.176e+04</td>\n",
              "      <td>6.178e+04</td>\n",
              "      <td>6.167e+04</td>\n",
              "      <td>6.178e+04</td>\n",
              "      <td>5.854e+03</td>\n",
              "      <td>1.390e+07</td>\n",
              "      <td>6.172e+04</td>\n",
              "    </tr>\n",
              "  </tbody>\n",
              "</table>\n",
              "</div>\n",
              "      <button class=\"colab-df-convert\" onclick=\"convertToInteractive('df-513d8577-be77-46e2-8c66-43f5a63e49e7')\"\n",
              "              title=\"Convert this dataframe to an interactive table.\"\n",
              "              style=\"display:none;\">\n",
              "        \n",
              "  <svg xmlns=\"http://www.w3.org/2000/svg\" height=\"24px\"viewBox=\"0 0 24 24\"\n",
              "       width=\"24px\">\n",
              "    <path d=\"M0 0h24v24H0V0z\" fill=\"none\"/>\n",
              "    <path d=\"M18.56 5.44l.94 2.06.94-2.06 2.06-.94-2.06-.94-.94-2.06-.94 2.06-2.06.94zm-11 1L8.5 8.5l.94-2.06 2.06-.94-2.06-.94L8.5 2.5l-.94 2.06-2.06.94zm10 10l.94 2.06.94-2.06 2.06-.94-2.06-.94-.94-2.06-.94 2.06-2.06.94z\"/><path d=\"M17.41 7.96l-1.37-1.37c-.4-.4-.92-.59-1.43-.59-.52 0-1.04.2-1.43.59L10.3 9.45l-7.72 7.72c-.78.78-.78 2.05 0 2.83L4 21.41c.39.39.9.59 1.41.59.51 0 1.02-.2 1.41-.59l7.78-7.78 2.81-2.81c.8-.78.8-2.07 0-2.86zM5.41 20L4 18.59l7.72-7.72 1.47 1.35L5.41 20z\"/>\n",
              "  </svg>\n",
              "      </button>\n",
              "      \n",
              "  <style>\n",
              "    .colab-df-container {\n",
              "      display:flex;\n",
              "      flex-wrap:wrap;\n",
              "      gap: 12px;\n",
              "    }\n",
              "\n",
              "    .colab-df-convert {\n",
              "      background-color: #E8F0FE;\n",
              "      border: none;\n",
              "      border-radius: 50%;\n",
              "      cursor: pointer;\n",
              "      display: none;\n",
              "      fill: #1967D2;\n",
              "      height: 32px;\n",
              "      padding: 0 0 0 0;\n",
              "      width: 32px;\n",
              "    }\n",
              "\n",
              "    .colab-df-convert:hover {\n",
              "      background-color: #E2EBFA;\n",
              "      box-shadow: 0px 1px 2px rgba(60, 64, 67, 0.3), 0px 1px 3px 1px rgba(60, 64, 67, 0.15);\n",
              "      fill: #174EA6;\n",
              "    }\n",
              "\n",
              "    [theme=dark] .colab-df-convert {\n",
              "      background-color: #3B4455;\n",
              "      fill: #D2E3FC;\n",
              "    }\n",
              "\n",
              "    [theme=dark] .colab-df-convert:hover {\n",
              "      background-color: #434B5C;\n",
              "      box-shadow: 0px 1px 3px 1px rgba(0, 0, 0, 0.15);\n",
              "      filter: drop-shadow(0px 1px 2px rgba(0, 0, 0, 0.3));\n",
              "      fill: #FFFFFF;\n",
              "    }\n",
              "  </style>\n",
              "\n",
              "      <script>\n",
              "        const buttonEl =\n",
              "          document.querySelector('#df-513d8577-be77-46e2-8c66-43f5a63e49e7 button.colab-df-convert');\n",
              "        buttonEl.style.display =\n",
              "          google.colab.kernel.accessAllowed ? 'block' : 'none';\n",
              "\n",
              "        async function convertToInteractive(key) {\n",
              "          const element = document.querySelector('#df-513d8577-be77-46e2-8c66-43f5a63e49e7');\n",
              "          const dataTable =\n",
              "            await google.colab.kernel.invokeFunction('convertToInteractive',\n",
              "                                                     [key], {});\n",
              "          if (!dataTable) return;\n",
              "\n",
              "          const docLinkHtml = 'Like what you see? Visit the ' +\n",
              "            '<a target=\"_blank\" href=https://colab.research.google.com/notebooks/data_table.ipynb>data table notebook</a>'\n",
              "            + ' to learn more about interactive tables.';\n",
              "          element.innerHTML = '';\n",
              "          dataTable['output_type'] = 'display_data';\n",
              "          await google.colab.output.renderOutput(dataTable, element);\n",
              "          const docLink = document.createElement('div');\n",
              "          docLink.innerHTML = docLinkHtml;\n",
              "          element.appendChild(docLink);\n",
              "        }\n",
              "      </script>\n",
              "    </div>\n",
              "  </div>\n",
              "  "
            ],
            "text/plain": [
              "       Timestamp       Open  ...  Volume_(Currency)  Weighted_Price\n",
              "count  4.857e+06  3.614e+06  ...          3.614e+06       3.614e+06\n",
              "mean   1.471e+09  6.009e+03  ...          4.176e+04       6.009e+03\n",
              "std    8.428e+07  8.996e+03  ...          1.518e+05       8.996e+03\n",
              "min    1.325e+09  3.800e+00  ...          0.000e+00       3.800e+00\n",
              "25%    1.398e+09  4.439e+02  ...          4.521e+02       4.438e+02\n",
              "50%    1.471e+09  3.597e+03  ...          3.810e+03       3.597e+03\n",
              "75%    1.544e+09  8.627e+03  ...          2.570e+04       8.628e+03\n",
              "max    1.617e+09  6.176e+04  ...          1.390e+07       6.172e+04\n",
              "\n",
              "[8 rows x 8 columns]"
            ]
          },
          "metadata": {},
          "execution_count": 13
        }
      ]
    },
    {
      "cell_type": "markdown",
      "source": [
        "<a id='3'></a>\n",
        "# 4. Preparación de datos"
      ],
      "metadata": {
        "id": "gngI41gBAdeT"
      }
    },
    {
      "cell_type": "markdown",
      "source": [
        "<a id='3.1'></a>\n",
        "## 4.1. Limpieza de datos"
      ],
      "metadata": {
        "id": "W3pSyy8XAjEW"
      }
    },
    {
      "cell_type": "code",
      "source": [
        "print('Null Values =',dataset.isnull().values.any())"
      ],
      "metadata": {
        "colab": {
          "base_uri": "https://localhost:8080/"
        },
        "id": "8AeJY2C0AaCq",
        "outputId": "bd7f2ce9-71ae-48f8-d9b2-25b20b2822df"
      },
      "execution_count": 14,
      "outputs": [
        {
          "output_type": "stream",
          "name": "stdout",
          "text": [
            "Null Values = True\n"
          ]
        }
      ]
    },
    {
      "cell_type": "markdown",
      "source": [
        "Dado que hay valores nulos, tenemos que limpiar los datos rellenando los NaN con los últimos valores disponibles."
      ],
      "metadata": {
        "id": "-kIIkyGlA54v"
      }
    },
    {
      "cell_type": "code",
      "source": [
        "dataset[dataset.columns.values] = dataset[dataset.columns.values].ffill()"
      ],
      "metadata": {
        "id": "DT8dS5sVA6l7"
      },
      "execution_count": 15,
      "outputs": []
    },
    {
      "cell_type": "code",
      "source": [
        "dataset=dataset.drop(columns=['Timestamp'])"
      ],
      "metadata": {
        "id": "MlVE0HOSA_bH"
      },
      "execution_count": 16,
      "outputs": []
    },
    {
      "cell_type": "markdown",
      "source": [
        "<a id='3.2'></a>\n",
        "## 4.2. Preparación de los datos para su clasificación"
      ],
      "metadata": {
        "id": "gAej5ymVBCF-"
      }
    },
    {
      "cell_type": "markdown",
      "source": [
        "Atribuimos una etiqueta a cada movimiento:\n",
        "\n",
        "* 1 si la señal es que el precio a corto plazo subirá en comparación con el largo plazo.\n",
        "\n",
        "* 0 si la señal es que el precio a corto plazo bajará en comparación con el largo plazo."
      ],
      "metadata": {
        "id": "dD0df80WBQg8"
      }
    },
    {
      "cell_type": "code",
      "source": [
        "# Inicializar el DataFrame `signals` con la columna `signal`.\n",
        "#datas['PriceMove'] = 0.0\n",
        "\n",
        "# Crear una media móvil simple corta sobre la ventana corta\n",
        "dataset['short_mavg'] = dataset['Close'].rolling(window=10, min_periods=1, center=False).mean()\n",
        "\n",
        "# Crear una media móvil simple larga sobre la ventana larga\n",
        "dataset['long_mavg'] = dataset['Close'].rolling(window=60, min_periods=1, center=False).mean()\n",
        "\n",
        "# Crear señales\n",
        "dataset['signal'] = np.where(dataset['short_mavg'] > dataset['long_mavg'], 1.0, 0.0)"
      ],
      "metadata": {
        "id": "zZ3t39tWBIR7"
      },
      "execution_count": 17,
      "outputs": []
    },
    {
      "cell_type": "code",
      "source": [
        "dataset.tail()"
      ],
      "metadata": {
        "colab": {
          "base_uri": "https://localhost:8080/",
          "height": 206
        },
        "id": "RpSKxaJ_CMFp",
        "outputId": "4f8560f6-c9a1-4725-aad9-23019b571113"
      },
      "execution_count": 18,
      "outputs": [
        {
          "output_type": "execute_result",
          "data": {
            "text/html": [
              "\n",
              "  <div id=\"df-edf006ca-1b55-42b9-ab88-dcbdbf0eb06d\">\n",
              "    <div class=\"colab-df-container\">\n",
              "      <div>\n",
              "<style scoped>\n",
              "    .dataframe tbody tr th:only-of-type {\n",
              "        vertical-align: middle;\n",
              "    }\n",
              "\n",
              "    .dataframe tbody tr th {\n",
              "        vertical-align: top;\n",
              "    }\n",
              "\n",
              "    .dataframe thead th {\n",
              "        text-align: right;\n",
              "    }\n",
              "</style>\n",
              "<table border=\"1\" class=\"dataframe\">\n",
              "  <thead>\n",
              "    <tr style=\"text-align: right;\">\n",
              "      <th></th>\n",
              "      <th>Open</th>\n",
              "      <th>High</th>\n",
              "      <th>Low</th>\n",
              "      <th>Close</th>\n",
              "      <th>Volume_(BTC)</th>\n",
              "      <th>Volume_(Currency)</th>\n",
              "      <th>Weighted_Price</th>\n",
              "      <th>short_mavg</th>\n",
              "      <th>long_mavg</th>\n",
              "      <th>signal</th>\n",
              "    </tr>\n",
              "  </thead>\n",
              "  <tbody>\n",
              "    <tr>\n",
              "      <th>4857372</th>\n",
              "      <td>58714.31</td>\n",
              "      <td>58714.31</td>\n",
              "      <td>58686.00</td>\n",
              "      <td>58686.00</td>\n",
              "      <td>1.384</td>\n",
              "      <td>81259.372</td>\n",
              "      <td>58692.753</td>\n",
              "      <td>58695.262</td>\n",
              "      <td>58667.759</td>\n",
              "      <td>1.0</td>\n",
              "    </tr>\n",
              "    <tr>\n",
              "      <th>4857373</th>\n",
              "      <td>58683.97</td>\n",
              "      <td>58693.43</td>\n",
              "      <td>58683.97</td>\n",
              "      <td>58685.81</td>\n",
              "      <td>7.295</td>\n",
              "      <td>428158.147</td>\n",
              "      <td>58693.227</td>\n",
              "      <td>58693.564</td>\n",
              "      <td>58667.410</td>\n",
              "      <td>1.0</td>\n",
              "    </tr>\n",
              "    <tr>\n",
              "      <th>4857374</th>\n",
              "      <td>58693.43</td>\n",
              "      <td>58723.84</td>\n",
              "      <td>58693.43</td>\n",
              "      <td>58723.84</td>\n",
              "      <td>1.706</td>\n",
              "      <td>100117.070</td>\n",
              "      <td>58696.198</td>\n",
              "      <td>58698.178</td>\n",
              "      <td>58667.708</td>\n",
              "      <td>1.0</td>\n",
              "    </tr>\n",
              "    <tr>\n",
              "      <th>4857375</th>\n",
              "      <td>58742.18</td>\n",
              "      <td>58770.38</td>\n",
              "      <td>58742.18</td>\n",
              "      <td>58760.59</td>\n",
              "      <td>0.720</td>\n",
              "      <td>42332.959</td>\n",
              "      <td>58761.866</td>\n",
              "      <td>58709.824</td>\n",
              "      <td>58668.532</td>\n",
              "      <td>1.0</td>\n",
              "    </tr>\n",
              "    <tr>\n",
              "      <th>4857376</th>\n",
              "      <td>58767.75</td>\n",
              "      <td>58778.18</td>\n",
              "      <td>58755.97</td>\n",
              "      <td>58778.18</td>\n",
              "      <td>2.713</td>\n",
              "      <td>159417.751</td>\n",
              "      <td>58764.349</td>\n",
              "      <td>58718.698</td>\n",
              "      <td>58670.551</td>\n",
              "      <td>1.0</td>\n",
              "    </tr>\n",
              "  </tbody>\n",
              "</table>\n",
              "</div>\n",
              "      <button class=\"colab-df-convert\" onclick=\"convertToInteractive('df-edf006ca-1b55-42b9-ab88-dcbdbf0eb06d')\"\n",
              "              title=\"Convert this dataframe to an interactive table.\"\n",
              "              style=\"display:none;\">\n",
              "        \n",
              "  <svg xmlns=\"http://www.w3.org/2000/svg\" height=\"24px\"viewBox=\"0 0 24 24\"\n",
              "       width=\"24px\">\n",
              "    <path d=\"M0 0h24v24H0V0z\" fill=\"none\"/>\n",
              "    <path d=\"M18.56 5.44l.94 2.06.94-2.06 2.06-.94-2.06-.94-.94-2.06-.94 2.06-2.06.94zm-11 1L8.5 8.5l.94-2.06 2.06-.94-2.06-.94L8.5 2.5l-.94 2.06-2.06.94zm10 10l.94 2.06.94-2.06 2.06-.94-2.06-.94-.94-2.06-.94 2.06-2.06.94z\"/><path d=\"M17.41 7.96l-1.37-1.37c-.4-.4-.92-.59-1.43-.59-.52 0-1.04.2-1.43.59L10.3 9.45l-7.72 7.72c-.78.78-.78 2.05 0 2.83L4 21.41c.39.39.9.59 1.41.59.51 0 1.02-.2 1.41-.59l7.78-7.78 2.81-2.81c.8-.78.8-2.07 0-2.86zM5.41 20L4 18.59l7.72-7.72 1.47 1.35L5.41 20z\"/>\n",
              "  </svg>\n",
              "      </button>\n",
              "      \n",
              "  <style>\n",
              "    .colab-df-container {\n",
              "      display:flex;\n",
              "      flex-wrap:wrap;\n",
              "      gap: 12px;\n",
              "    }\n",
              "\n",
              "    .colab-df-convert {\n",
              "      background-color: #E8F0FE;\n",
              "      border: none;\n",
              "      border-radius: 50%;\n",
              "      cursor: pointer;\n",
              "      display: none;\n",
              "      fill: #1967D2;\n",
              "      height: 32px;\n",
              "      padding: 0 0 0 0;\n",
              "      width: 32px;\n",
              "    }\n",
              "\n",
              "    .colab-df-convert:hover {\n",
              "      background-color: #E2EBFA;\n",
              "      box-shadow: 0px 1px 2px rgba(60, 64, 67, 0.3), 0px 1px 3px 1px rgba(60, 64, 67, 0.15);\n",
              "      fill: #174EA6;\n",
              "    }\n",
              "\n",
              "    [theme=dark] .colab-df-convert {\n",
              "      background-color: #3B4455;\n",
              "      fill: #D2E3FC;\n",
              "    }\n",
              "\n",
              "    [theme=dark] .colab-df-convert:hover {\n",
              "      background-color: #434B5C;\n",
              "      box-shadow: 0px 1px 3px 1px rgba(0, 0, 0, 0.15);\n",
              "      filter: drop-shadow(0px 1px 2px rgba(0, 0, 0, 0.3));\n",
              "      fill: #FFFFFF;\n",
              "    }\n",
              "  </style>\n",
              "\n",
              "      <script>\n",
              "        const buttonEl =\n",
              "          document.querySelector('#df-edf006ca-1b55-42b9-ab88-dcbdbf0eb06d button.colab-df-convert');\n",
              "        buttonEl.style.display =\n",
              "          google.colab.kernel.accessAllowed ? 'block' : 'none';\n",
              "\n",
              "        async function convertToInteractive(key) {\n",
              "          const element = document.querySelector('#df-edf006ca-1b55-42b9-ab88-dcbdbf0eb06d');\n",
              "          const dataTable =\n",
              "            await google.colab.kernel.invokeFunction('convertToInteractive',\n",
              "                                                     [key], {});\n",
              "          if (!dataTable) return;\n",
              "\n",
              "          const docLinkHtml = 'Like what you see? Visit the ' +\n",
              "            '<a target=\"_blank\" href=https://colab.research.google.com/notebooks/data_table.ipynb>data table notebook</a>'\n",
              "            + ' to learn more about interactive tables.';\n",
              "          element.innerHTML = '';\n",
              "          dataTable['output_type'] = 'display_data';\n",
              "          await google.colab.output.renderOutput(dataTable, element);\n",
              "          const docLink = document.createElement('div');\n",
              "          docLink.innerHTML = docLinkHtml;\n",
              "          element.appendChild(docLink);\n",
              "        }\n",
              "      </script>\n",
              "    </div>\n",
              "  </div>\n",
              "  "
            ],
            "text/plain": [
              "             Open      High       Low  ...  short_mavg  long_mavg  signal\n",
              "4857372  58714.31  58714.31  58686.00  ...   58695.262  58667.759     1.0\n",
              "4857373  58683.97  58693.43  58683.97  ...   58693.564  58667.410     1.0\n",
              "4857374  58693.43  58723.84  58693.43  ...   58698.178  58667.708     1.0\n",
              "4857375  58742.18  58770.38  58742.18  ...   58709.824  58668.532     1.0\n",
              "4857376  58767.75  58778.18  58755.97  ...   58718.698  58670.551     1.0\n",
              "\n",
              "[5 rows x 10 columns]"
            ]
          },
          "metadata": {},
          "execution_count": 18
        }
      ]
    },
    {
      "cell_type": "markdown",
      "source": [
        "<a id='3.3'></a>\n",
        "## 4.3. Ingeniería de características"
      ],
      "metadata": {
        "id": "IehJpHSGCYs3"
      }
    },
    {
      "cell_type": "markdown",
      "source": [
        "Comenzamos construyendo un conjunto de datos que contiene los predictores que se utilizarán para hacer las predicciones, y la variable de salida.\n",
        "\n",
        "Los datos actuales del bicoin consisten en la fecha, la apertura, el máximo, el mínimo, el cierre y el volumen. Con estos datos calculamos los siguientes indicadores técnicos:\n",
        "\n",
        "* **Promedio móvil :** Un promedio móvil proporciona una indicación de la tendencia del movimiento del precio cortando la cantidad de \"ruido\" en un gráfico de precios.\n",
        "\n",
        "* **Oscilador estocástico %K y %D :** Un oscilador estocástico es un indicador de impulso que compara un precio de cierre concreto de un valor con un rango de sus precios durante un periodo de tiempo determinado. El %K y el %D son indicadores lentos y rápidos.\n",
        "\n",
        "* **Índice de Fuerza Relativa (RSI):** Es un indicador de impulso que mide la magnitud de los cambios recientes en el precio para evaluar las condiciones de sobrecompra o sobreventa en el precio de una acción u otro activo.\n",
        "\n",
        "* **Tasa de cambio (ROC):** Es un oscilador de momentum, que mide el cambio porcentual entre el precio actual y el precio pasado de n períodos.\n",
        "\n",
        "* **Momentum (MOM) :** Es la tasa de aceleración del precio o del volumen de un valor, es decir, la velocidad a la que cambia el precio."
      ],
      "metadata": {
        "id": "3ImJEQVOCjXm"
      }
    },
    {
      "cell_type": "code",
      "source": [
        "# cálculo de la media móvil exponencial\n",
        "\n",
        "def EMA(df, n):\n",
        "    EMA = pd.Series(df['Close'].ewm(span=n, min_periods=n).mean(), name='EMA_' + str(n))\n",
        "    return EMA\n",
        "dataset['EMA10'] = EMA(dataset, 10)\n",
        "dataset['EMA30'] = EMA(dataset, 30)\n",
        "dataset['EMA200'] = EMA(dataset, 200)\n",
        "dataset.head()\n",
        "\n",
        "# cálculo de la tasa de variación\n",
        "def ROC(df, n):  \n",
        "    M = df.diff(n - 1)  \n",
        "    N = df.shift(n - 1)  \n",
        "    ROC = pd.Series(((M / N) * 100), name = 'ROC_' + str(n))   \n",
        "    return ROC\n",
        "dataset['ROC10'] = ROC(dataset['Close'], 10)\n",
        "dataset['ROC30'] = ROC(dataset['Close'], 30)\n",
        "\n",
        "# Cálculo del impulso de los precios\n",
        "def MOM(df, n):   \n",
        "    MOM = pd.Series(df.diff(n), name='Momentum_' + str(n))   \n",
        "    return MOM\n",
        "dataset['MOM10'] = MOM(dataset['Close'], 10)\n",
        "dataset['MOM30'] = MOM(dataset['Close'], 30)\n",
        "\n",
        "# cálculo del índice de fuerza relativa\n",
        "def RSI(series, period):\n",
        " delta = series.diff().dropna()\n",
        " u = delta * 0\n",
        " d = u.copy()\n",
        " u[delta > 0] = delta[delta > 0]\n",
        " d[delta < 0] = -delta[delta < 0]\n",
        " u[u.index[period-1]] = np.mean( u[:period] ) # el primer valor es la suma de las ganancias medias\n",
        " u = u.drop(u.index[:(period-1)])\n",
        " d[d.index[period-1]] = np.mean( d[:period] ) # el primer valor es la suma de las pérdidas medias\n",
        " d = d.drop(d.index[:(period-1)])\n",
        " rs = u.ewm(com=period-1, adjust=False).mean() / \\\n",
        " d.ewm(com=period-1, adjust=False).mean()\n",
        " return 100 - 100 / (1 + rs)\n",
        "dataset['RSI10'] = RSI(dataset['Close'], 10)\n",
        "dataset['RSI30'] = RSI(dataset['Close'], 30)\n",
        "dataset['RSI200'] = RSI(dataset['Close'], 200)\n",
        "\n",
        "# cálculo del osilador estocástico.\n",
        "\n",
        "def STOK(close, low, high, n): \n",
        " STOK = ((close - low.rolling(n).min()) / (high.rolling(n).max() - low.rolling(n).min())) * 100\n",
        " return STOK\n",
        "\n",
        "def STOD(close, low, high, n):\n",
        " STOK = ((close - low.rolling(n).min()) / (high.rolling(n).max() - low.rolling(n).min())) * 100\n",
        " STOD = STOK.rolling(3).mean()\n",
        " return STOD\n",
        "\n",
        "dataset['%K10'] = STOK(dataset['Close'], dataset['Low'], dataset['High'], 10)\n",
        "dataset['%D10'] = STOD(dataset['Close'], dataset['Low'], dataset['High'], 10)\n",
        "dataset['%K30'] = STOK(dataset['Close'], dataset['Low'], dataset['High'], 30)\n",
        "dataset['%D30'] = STOD(dataset['Close'], dataset['Low'], dataset['High'], 30)\n",
        "dataset['%K200'] = STOK(dataset['Close'], dataset['Low'], dataset['High'], 200)\n",
        "dataset['%D200'] = STOD(dataset['Close'], dataset['Low'], dataset['High'], 200)"
      ],
      "metadata": {
        "id": "LpIJB4WfCPcj"
      },
      "execution_count": 19,
      "outputs": []
    },
    {
      "cell_type": "code",
      "source": [
        "# Cálculo de la media móvil\n",
        "def MA(df, n):\n",
        "    MA = pd.Series(df['Close'].rolling(n, min_periods=n).mean(), name='MA_' + str(n))\n",
        "    return MA\n",
        "dataset['MA21'] = MA(dataset, 10)\n",
        "dataset['MA63'] = MA(dataset, 30)\n",
        "dataset['MA252'] = MA(dataset, 200)\n",
        "dataset.tail()"
      ],
      "metadata": {
        "colab": {
          "base_uri": "https://localhost:8080/",
          "height": 270
        },
        "id": "u1nDcF-QEKCA",
        "outputId": "0edb8a92-e497-4c32-cf7b-4a8778309a35"
      },
      "execution_count": 20,
      "outputs": [
        {
          "output_type": "execute_result",
          "data": {
            "text/html": [
              "\n",
              "  <div id=\"df-531c7181-14c7-4540-890a-f031ab9cb746\">\n",
              "    <div class=\"colab-df-container\">\n",
              "      <div>\n",
              "<style scoped>\n",
              "    .dataframe tbody tr th:only-of-type {\n",
              "        vertical-align: middle;\n",
              "    }\n",
              "\n",
              "    .dataframe tbody tr th {\n",
              "        vertical-align: top;\n",
              "    }\n",
              "\n",
              "    .dataframe thead th {\n",
              "        text-align: right;\n",
              "    }\n",
              "</style>\n",
              "<table border=\"1\" class=\"dataframe\">\n",
              "  <thead>\n",
              "    <tr style=\"text-align: right;\">\n",
              "      <th></th>\n",
              "      <th>Open</th>\n",
              "      <th>High</th>\n",
              "      <th>Low</th>\n",
              "      <th>Close</th>\n",
              "      <th>Volume_(BTC)</th>\n",
              "      <th>Volume_(Currency)</th>\n",
              "      <th>Weighted_Price</th>\n",
              "      <th>short_mavg</th>\n",
              "      <th>long_mavg</th>\n",
              "      <th>signal</th>\n",
              "      <th>EMA10</th>\n",
              "      <th>EMA30</th>\n",
              "      <th>EMA200</th>\n",
              "      <th>ROC10</th>\n",
              "      <th>ROC30</th>\n",
              "      <th>MOM10</th>\n",
              "      <th>MOM30</th>\n",
              "      <th>RSI10</th>\n",
              "      <th>RSI30</th>\n",
              "      <th>RSI200</th>\n",
              "      <th>%K10</th>\n",
              "      <th>%D10</th>\n",
              "      <th>%K30</th>\n",
              "      <th>%D30</th>\n",
              "      <th>%K200</th>\n",
              "      <th>%D200</th>\n",
              "      <th>MA21</th>\n",
              "      <th>MA63</th>\n",
              "      <th>MA252</th>\n",
              "    </tr>\n",
              "  </thead>\n",
              "  <tbody>\n",
              "    <tr>\n",
              "      <th>4857372</th>\n",
              "      <td>58714.31</td>\n",
              "      <td>58714.31</td>\n",
              "      <td>58686.00</td>\n",
              "      <td>58686.00</td>\n",
              "      <td>1.384</td>\n",
              "      <td>81259.372</td>\n",
              "      <td>58692.753</td>\n",
              "      <td>58695.262</td>\n",
              "      <td>58667.759</td>\n",
              "      <td>1.0</td>\n",
              "      <td>58691.231</td>\n",
              "      <td>58675.538</td>\n",
              "      <td>58722.003</td>\n",
              "      <td>-0.029</td>\n",
              "      <td>-0.077</td>\n",
              "      <td>19.46</td>\n",
              "      <td>-6.46</td>\n",
              "      <td>51.544</td>\n",
              "      <td>50.298</td>\n",
              "      <td>49.479</td>\n",
              "      <td>35.393</td>\n",
              "      <td>61.578</td>\n",
              "      <td>51.697</td>\n",
              "      <td>68.138</td>\n",
              "      <td>39.264</td>\n",
              "      <td>47.840</td>\n",
              "      <td>58695.262</td>\n",
              "      <td>58676.974</td>\n",
              "      <td>58717.263</td>\n",
              "    </tr>\n",
              "    <tr>\n",
              "      <th>4857373</th>\n",
              "      <td>58683.97</td>\n",
              "      <td>58693.43</td>\n",
              "      <td>58683.97</td>\n",
              "      <td>58685.81</td>\n",
              "      <td>7.295</td>\n",
              "      <td>428158.147</td>\n",
              "      <td>58693.227</td>\n",
              "      <td>58693.564</td>\n",
              "      <td>58667.410</td>\n",
              "      <td>1.0</td>\n",
              "      <td>58690.246</td>\n",
              "      <td>58676.201</td>\n",
              "      <td>58721.643</td>\n",
              "      <td>0.014</td>\n",
              "      <td>-0.061</td>\n",
              "      <td>-16.98</td>\n",
              "      <td>-45.15</td>\n",
              "      <td>51.497</td>\n",
              "      <td>50.284</td>\n",
              "      <td>49.478</td>\n",
              "      <td>35.232</td>\n",
              "      <td>44.602</td>\n",
              "      <td>51.583</td>\n",
              "      <td>57.317</td>\n",
              "      <td>34.155</td>\n",
              "      <td>39.806</td>\n",
              "      <td>58693.564</td>\n",
              "      <td>58675.469</td>\n",
              "      <td>58717.926</td>\n",
              "    </tr>\n",
              "    <tr>\n",
              "      <th>4857374</th>\n",
              "      <td>58693.43</td>\n",
              "      <td>58723.84</td>\n",
              "      <td>58693.43</td>\n",
              "      <td>58723.84</td>\n",
              "      <td>1.706</td>\n",
              "      <td>100117.070</td>\n",
              "      <td>58696.198</td>\n",
              "      <td>58698.178</td>\n",
              "      <td>58667.708</td>\n",
              "      <td>1.0</td>\n",
              "      <td>58696.354</td>\n",
              "      <td>58679.274</td>\n",
              "      <td>58721.665</td>\n",
              "      <td>0.136</td>\n",
              "      <td>-0.042</td>\n",
              "      <td>46.14</td>\n",
              "      <td>2.19</td>\n",
              "      <td>59.662</td>\n",
              "      <td>53.064</td>\n",
              "      <td>49.822</td>\n",
              "      <td>67.380</td>\n",
              "      <td>46.002</td>\n",
              "      <td>74.385</td>\n",
              "      <td>59.222</td>\n",
              "      <td>41.881</td>\n",
              "      <td>38.433</td>\n",
              "      <td>58698.178</td>\n",
              "      <td>58675.542</td>\n",
              "      <td>58718.662</td>\n",
              "    </tr>\n",
              "    <tr>\n",
              "      <th>4857375</th>\n",
              "      <td>58742.18</td>\n",
              "      <td>58770.38</td>\n",
              "      <td>58742.18</td>\n",
              "      <td>58760.59</td>\n",
              "      <td>0.720</td>\n",
              "      <td>42332.959</td>\n",
              "      <td>58761.866</td>\n",
              "      <td>58709.824</td>\n",
              "      <td>58668.532</td>\n",
              "      <td>1.0</td>\n",
              "      <td>58708.033</td>\n",
              "      <td>58684.520</td>\n",
              "      <td>58722.052</td>\n",
              "      <td>0.121</td>\n",
              "      <td>0.027</td>\n",
              "      <td>116.46</td>\n",
              "      <td>12.14</td>\n",
              "      <td>65.837</td>\n",
              "      <td>55.549</td>\n",
              "      <td>50.153</td>\n",
              "      <td>91.131</td>\n",
              "      <td>64.581</td>\n",
              "      <td>94.261</td>\n",
              "      <td>73.410</td>\n",
              "      <td>51.701</td>\n",
              "      <td>42.579</td>\n",
              "      <td>58709.824</td>\n",
              "      <td>58675.947</td>\n",
              "      <td>58719.380</td>\n",
              "    </tr>\n",
              "    <tr>\n",
              "      <th>4857376</th>\n",
              "      <td>58767.75</td>\n",
              "      <td>58778.18</td>\n",
              "      <td>58755.97</td>\n",
              "      <td>58778.18</td>\n",
              "      <td>2.713</td>\n",
              "      <td>159417.751</td>\n",
              "      <td>58764.349</td>\n",
              "      <td>58718.698</td>\n",
              "      <td>58670.551</td>\n",
              "      <td>1.0</td>\n",
              "      <td>58720.787</td>\n",
              "      <td>58690.563</td>\n",
              "      <td>58722.610</td>\n",
              "      <td>0.133</td>\n",
              "      <td>0.072</td>\n",
              "      <td>88.74</td>\n",
              "      <td>33.30</td>\n",
              "      <td>68.409</td>\n",
              "      <td>56.684</td>\n",
              "      <td>50.310</td>\n",
              "      <td>100.000</td>\n",
              "      <td>86.170</td>\n",
              "      <td>100.000</td>\n",
              "      <td>89.549</td>\n",
              "      <td>56.401</td>\n",
              "      <td>49.994</td>\n",
              "      <td>58718.698</td>\n",
              "      <td>58677.057</td>\n",
              "      <td>58720.382</td>\n",
              "    </tr>\n",
              "  </tbody>\n",
              "</table>\n",
              "</div>\n",
              "      <button class=\"colab-df-convert\" onclick=\"convertToInteractive('df-531c7181-14c7-4540-890a-f031ab9cb746')\"\n",
              "              title=\"Convert this dataframe to an interactive table.\"\n",
              "              style=\"display:none;\">\n",
              "        \n",
              "  <svg xmlns=\"http://www.w3.org/2000/svg\" height=\"24px\"viewBox=\"0 0 24 24\"\n",
              "       width=\"24px\">\n",
              "    <path d=\"M0 0h24v24H0V0z\" fill=\"none\"/>\n",
              "    <path d=\"M18.56 5.44l.94 2.06.94-2.06 2.06-.94-2.06-.94-.94-2.06-.94 2.06-2.06.94zm-11 1L8.5 8.5l.94-2.06 2.06-.94-2.06-.94L8.5 2.5l-.94 2.06-2.06.94zm10 10l.94 2.06.94-2.06 2.06-.94-2.06-.94-.94-2.06-.94 2.06-2.06.94z\"/><path d=\"M17.41 7.96l-1.37-1.37c-.4-.4-.92-.59-1.43-.59-.52 0-1.04.2-1.43.59L10.3 9.45l-7.72 7.72c-.78.78-.78 2.05 0 2.83L4 21.41c.39.39.9.59 1.41.59.51 0 1.02-.2 1.41-.59l7.78-7.78 2.81-2.81c.8-.78.8-2.07 0-2.86zM5.41 20L4 18.59l7.72-7.72 1.47 1.35L5.41 20z\"/>\n",
              "  </svg>\n",
              "      </button>\n",
              "      \n",
              "  <style>\n",
              "    .colab-df-container {\n",
              "      display:flex;\n",
              "      flex-wrap:wrap;\n",
              "      gap: 12px;\n",
              "    }\n",
              "\n",
              "    .colab-df-convert {\n",
              "      background-color: #E8F0FE;\n",
              "      border: none;\n",
              "      border-radius: 50%;\n",
              "      cursor: pointer;\n",
              "      display: none;\n",
              "      fill: #1967D2;\n",
              "      height: 32px;\n",
              "      padding: 0 0 0 0;\n",
              "      width: 32px;\n",
              "    }\n",
              "\n",
              "    .colab-df-convert:hover {\n",
              "      background-color: #E2EBFA;\n",
              "      box-shadow: 0px 1px 2px rgba(60, 64, 67, 0.3), 0px 1px 3px 1px rgba(60, 64, 67, 0.15);\n",
              "      fill: #174EA6;\n",
              "    }\n",
              "\n",
              "    [theme=dark] .colab-df-convert {\n",
              "      background-color: #3B4455;\n",
              "      fill: #D2E3FC;\n",
              "    }\n",
              "\n",
              "    [theme=dark] .colab-df-convert:hover {\n",
              "      background-color: #434B5C;\n",
              "      box-shadow: 0px 1px 3px 1px rgba(0, 0, 0, 0.15);\n",
              "      filter: drop-shadow(0px 1px 2px rgba(0, 0, 0, 0.3));\n",
              "      fill: #FFFFFF;\n",
              "    }\n",
              "  </style>\n",
              "\n",
              "      <script>\n",
              "        const buttonEl =\n",
              "          document.querySelector('#df-531c7181-14c7-4540-890a-f031ab9cb746 button.colab-df-convert');\n",
              "        buttonEl.style.display =\n",
              "          google.colab.kernel.accessAllowed ? 'block' : 'none';\n",
              "\n",
              "        async function convertToInteractive(key) {\n",
              "          const element = document.querySelector('#df-531c7181-14c7-4540-890a-f031ab9cb746');\n",
              "          const dataTable =\n",
              "            await google.colab.kernel.invokeFunction('convertToInteractive',\n",
              "                                                     [key], {});\n",
              "          if (!dataTable) return;\n",
              "\n",
              "          const docLinkHtml = 'Like what you see? Visit the ' +\n",
              "            '<a target=\"_blank\" href=https://colab.research.google.com/notebooks/data_table.ipynb>data table notebook</a>'\n",
              "            + ' to learn more about interactive tables.';\n",
              "          element.innerHTML = '';\n",
              "          dataTable['output_type'] = 'display_data';\n",
              "          await google.colab.output.renderOutput(dataTable, element);\n",
              "          const docLink = document.createElement('div');\n",
              "          docLink.innerHTML = docLinkHtml;\n",
              "          element.appendChild(docLink);\n",
              "        }\n",
              "      </script>\n",
              "    </div>\n",
              "  </div>\n",
              "  "
            ],
            "text/plain": [
              "             Open      High       Low  ...       MA21       MA63      MA252\n",
              "4857372  58714.31  58714.31  58686.00  ...  58695.262  58676.974  58717.263\n",
              "4857373  58683.97  58693.43  58683.97  ...  58693.564  58675.469  58717.926\n",
              "4857374  58693.43  58723.84  58693.43  ...  58698.178  58675.542  58718.662\n",
              "4857375  58742.18  58770.38  58742.18  ...  58709.824  58675.947  58719.380\n",
              "4857376  58767.75  58778.18  58755.97  ...  58718.698  58677.057  58720.382\n",
              "\n",
              "[5 rows x 29 columns]"
            ]
          },
          "metadata": {},
          "execution_count": 20
        }
      ]
    },
    {
      "cell_type": "code",
      "source": [
        "dataset.tail()"
      ],
      "metadata": {
        "colab": {
          "base_uri": "https://localhost:8080/",
          "height": 270
        },
        "id": "TrlHE8pbEgz0",
        "outputId": "ac8e4e3b-4db8-4fa7-b810-6c1dcab8026a"
      },
      "execution_count": 21,
      "outputs": [
        {
          "output_type": "execute_result",
          "data": {
            "text/html": [
              "\n",
              "  <div id=\"df-9dda2282-d9a4-4174-b4bc-ea5204080e37\">\n",
              "    <div class=\"colab-df-container\">\n",
              "      <div>\n",
              "<style scoped>\n",
              "    .dataframe tbody tr th:only-of-type {\n",
              "        vertical-align: middle;\n",
              "    }\n",
              "\n",
              "    .dataframe tbody tr th {\n",
              "        vertical-align: top;\n",
              "    }\n",
              "\n",
              "    .dataframe thead th {\n",
              "        text-align: right;\n",
              "    }\n",
              "</style>\n",
              "<table border=\"1\" class=\"dataframe\">\n",
              "  <thead>\n",
              "    <tr style=\"text-align: right;\">\n",
              "      <th></th>\n",
              "      <th>Open</th>\n",
              "      <th>High</th>\n",
              "      <th>Low</th>\n",
              "      <th>Close</th>\n",
              "      <th>Volume_(BTC)</th>\n",
              "      <th>Volume_(Currency)</th>\n",
              "      <th>Weighted_Price</th>\n",
              "      <th>short_mavg</th>\n",
              "      <th>long_mavg</th>\n",
              "      <th>signal</th>\n",
              "      <th>EMA10</th>\n",
              "      <th>EMA30</th>\n",
              "      <th>EMA200</th>\n",
              "      <th>ROC10</th>\n",
              "      <th>ROC30</th>\n",
              "      <th>MOM10</th>\n",
              "      <th>MOM30</th>\n",
              "      <th>RSI10</th>\n",
              "      <th>RSI30</th>\n",
              "      <th>RSI200</th>\n",
              "      <th>%K10</th>\n",
              "      <th>%D10</th>\n",
              "      <th>%K30</th>\n",
              "      <th>%D30</th>\n",
              "      <th>%K200</th>\n",
              "      <th>%D200</th>\n",
              "      <th>MA21</th>\n",
              "      <th>MA63</th>\n",
              "      <th>MA252</th>\n",
              "    </tr>\n",
              "  </thead>\n",
              "  <tbody>\n",
              "    <tr>\n",
              "      <th>4857372</th>\n",
              "      <td>58714.31</td>\n",
              "      <td>58714.31</td>\n",
              "      <td>58686.00</td>\n",
              "      <td>58686.00</td>\n",
              "      <td>1.384</td>\n",
              "      <td>81259.372</td>\n",
              "      <td>58692.753</td>\n",
              "      <td>58695.262</td>\n",
              "      <td>58667.759</td>\n",
              "      <td>1.0</td>\n",
              "      <td>58691.231</td>\n",
              "      <td>58675.538</td>\n",
              "      <td>58722.003</td>\n",
              "      <td>-0.029</td>\n",
              "      <td>-0.077</td>\n",
              "      <td>19.46</td>\n",
              "      <td>-6.46</td>\n",
              "      <td>51.544</td>\n",
              "      <td>50.298</td>\n",
              "      <td>49.479</td>\n",
              "      <td>35.393</td>\n",
              "      <td>61.578</td>\n",
              "      <td>51.697</td>\n",
              "      <td>68.138</td>\n",
              "      <td>39.264</td>\n",
              "      <td>47.840</td>\n",
              "      <td>58695.262</td>\n",
              "      <td>58676.974</td>\n",
              "      <td>58717.263</td>\n",
              "    </tr>\n",
              "    <tr>\n",
              "      <th>4857373</th>\n",
              "      <td>58683.97</td>\n",
              "      <td>58693.43</td>\n",
              "      <td>58683.97</td>\n",
              "      <td>58685.81</td>\n",
              "      <td>7.295</td>\n",
              "      <td>428158.147</td>\n",
              "      <td>58693.227</td>\n",
              "      <td>58693.564</td>\n",
              "      <td>58667.410</td>\n",
              "      <td>1.0</td>\n",
              "      <td>58690.246</td>\n",
              "      <td>58676.201</td>\n",
              "      <td>58721.643</td>\n",
              "      <td>0.014</td>\n",
              "      <td>-0.061</td>\n",
              "      <td>-16.98</td>\n",
              "      <td>-45.15</td>\n",
              "      <td>51.497</td>\n",
              "      <td>50.284</td>\n",
              "      <td>49.478</td>\n",
              "      <td>35.232</td>\n",
              "      <td>44.602</td>\n",
              "      <td>51.583</td>\n",
              "      <td>57.317</td>\n",
              "      <td>34.155</td>\n",
              "      <td>39.806</td>\n",
              "      <td>58693.564</td>\n",
              "      <td>58675.469</td>\n",
              "      <td>58717.926</td>\n",
              "    </tr>\n",
              "    <tr>\n",
              "      <th>4857374</th>\n",
              "      <td>58693.43</td>\n",
              "      <td>58723.84</td>\n",
              "      <td>58693.43</td>\n",
              "      <td>58723.84</td>\n",
              "      <td>1.706</td>\n",
              "      <td>100117.070</td>\n",
              "      <td>58696.198</td>\n",
              "      <td>58698.178</td>\n",
              "      <td>58667.708</td>\n",
              "      <td>1.0</td>\n",
              "      <td>58696.354</td>\n",
              "      <td>58679.274</td>\n",
              "      <td>58721.665</td>\n",
              "      <td>0.136</td>\n",
              "      <td>-0.042</td>\n",
              "      <td>46.14</td>\n",
              "      <td>2.19</td>\n",
              "      <td>59.662</td>\n",
              "      <td>53.064</td>\n",
              "      <td>49.822</td>\n",
              "      <td>67.380</td>\n",
              "      <td>46.002</td>\n",
              "      <td>74.385</td>\n",
              "      <td>59.222</td>\n",
              "      <td>41.881</td>\n",
              "      <td>38.433</td>\n",
              "      <td>58698.178</td>\n",
              "      <td>58675.542</td>\n",
              "      <td>58718.662</td>\n",
              "    </tr>\n",
              "    <tr>\n",
              "      <th>4857375</th>\n",
              "      <td>58742.18</td>\n",
              "      <td>58770.38</td>\n",
              "      <td>58742.18</td>\n",
              "      <td>58760.59</td>\n",
              "      <td>0.720</td>\n",
              "      <td>42332.959</td>\n",
              "      <td>58761.866</td>\n",
              "      <td>58709.824</td>\n",
              "      <td>58668.532</td>\n",
              "      <td>1.0</td>\n",
              "      <td>58708.033</td>\n",
              "      <td>58684.520</td>\n",
              "      <td>58722.052</td>\n",
              "      <td>0.121</td>\n",
              "      <td>0.027</td>\n",
              "      <td>116.46</td>\n",
              "      <td>12.14</td>\n",
              "      <td>65.837</td>\n",
              "      <td>55.549</td>\n",
              "      <td>50.153</td>\n",
              "      <td>91.131</td>\n",
              "      <td>64.581</td>\n",
              "      <td>94.261</td>\n",
              "      <td>73.410</td>\n",
              "      <td>51.701</td>\n",
              "      <td>42.579</td>\n",
              "      <td>58709.824</td>\n",
              "      <td>58675.947</td>\n",
              "      <td>58719.380</td>\n",
              "    </tr>\n",
              "    <tr>\n",
              "      <th>4857376</th>\n",
              "      <td>58767.75</td>\n",
              "      <td>58778.18</td>\n",
              "      <td>58755.97</td>\n",
              "      <td>58778.18</td>\n",
              "      <td>2.713</td>\n",
              "      <td>159417.751</td>\n",
              "      <td>58764.349</td>\n",
              "      <td>58718.698</td>\n",
              "      <td>58670.551</td>\n",
              "      <td>1.0</td>\n",
              "      <td>58720.787</td>\n",
              "      <td>58690.563</td>\n",
              "      <td>58722.610</td>\n",
              "      <td>0.133</td>\n",
              "      <td>0.072</td>\n",
              "      <td>88.74</td>\n",
              "      <td>33.30</td>\n",
              "      <td>68.409</td>\n",
              "      <td>56.684</td>\n",
              "      <td>50.310</td>\n",
              "      <td>100.000</td>\n",
              "      <td>86.170</td>\n",
              "      <td>100.000</td>\n",
              "      <td>89.549</td>\n",
              "      <td>56.401</td>\n",
              "      <td>49.994</td>\n",
              "      <td>58718.698</td>\n",
              "      <td>58677.057</td>\n",
              "      <td>58720.382</td>\n",
              "    </tr>\n",
              "  </tbody>\n",
              "</table>\n",
              "</div>\n",
              "      <button class=\"colab-df-convert\" onclick=\"convertToInteractive('df-9dda2282-d9a4-4174-b4bc-ea5204080e37')\"\n",
              "              title=\"Convert this dataframe to an interactive table.\"\n",
              "              style=\"display:none;\">\n",
              "        \n",
              "  <svg xmlns=\"http://www.w3.org/2000/svg\" height=\"24px\"viewBox=\"0 0 24 24\"\n",
              "       width=\"24px\">\n",
              "    <path d=\"M0 0h24v24H0V0z\" fill=\"none\"/>\n",
              "    <path d=\"M18.56 5.44l.94 2.06.94-2.06 2.06-.94-2.06-.94-.94-2.06-.94 2.06-2.06.94zm-11 1L8.5 8.5l.94-2.06 2.06-.94-2.06-.94L8.5 2.5l-.94 2.06-2.06.94zm10 10l.94 2.06.94-2.06 2.06-.94-2.06-.94-.94-2.06-.94 2.06-2.06.94z\"/><path d=\"M17.41 7.96l-1.37-1.37c-.4-.4-.92-.59-1.43-.59-.52 0-1.04.2-1.43.59L10.3 9.45l-7.72 7.72c-.78.78-.78 2.05 0 2.83L4 21.41c.39.39.9.59 1.41.59.51 0 1.02-.2 1.41-.59l7.78-7.78 2.81-2.81c.8-.78.8-2.07 0-2.86zM5.41 20L4 18.59l7.72-7.72 1.47 1.35L5.41 20z\"/>\n",
              "  </svg>\n",
              "      </button>\n",
              "      \n",
              "  <style>\n",
              "    .colab-df-container {\n",
              "      display:flex;\n",
              "      flex-wrap:wrap;\n",
              "      gap: 12px;\n",
              "    }\n",
              "\n",
              "    .colab-df-convert {\n",
              "      background-color: #E8F0FE;\n",
              "      border: none;\n",
              "      border-radius: 50%;\n",
              "      cursor: pointer;\n",
              "      display: none;\n",
              "      fill: #1967D2;\n",
              "      height: 32px;\n",
              "      padding: 0 0 0 0;\n",
              "      width: 32px;\n",
              "    }\n",
              "\n",
              "    .colab-df-convert:hover {\n",
              "      background-color: #E2EBFA;\n",
              "      box-shadow: 0px 1px 2px rgba(60, 64, 67, 0.3), 0px 1px 3px 1px rgba(60, 64, 67, 0.15);\n",
              "      fill: #174EA6;\n",
              "    }\n",
              "\n",
              "    [theme=dark] .colab-df-convert {\n",
              "      background-color: #3B4455;\n",
              "      fill: #D2E3FC;\n",
              "    }\n",
              "\n",
              "    [theme=dark] .colab-df-convert:hover {\n",
              "      background-color: #434B5C;\n",
              "      box-shadow: 0px 1px 3px 1px rgba(0, 0, 0, 0.15);\n",
              "      filter: drop-shadow(0px 1px 2px rgba(0, 0, 0, 0.3));\n",
              "      fill: #FFFFFF;\n",
              "    }\n",
              "  </style>\n",
              "\n",
              "      <script>\n",
              "        const buttonEl =\n",
              "          document.querySelector('#df-9dda2282-d9a4-4174-b4bc-ea5204080e37 button.colab-df-convert');\n",
              "        buttonEl.style.display =\n",
              "          google.colab.kernel.accessAllowed ? 'block' : 'none';\n",
              "\n",
              "        async function convertToInteractive(key) {\n",
              "          const element = document.querySelector('#df-9dda2282-d9a4-4174-b4bc-ea5204080e37');\n",
              "          const dataTable =\n",
              "            await google.colab.kernel.invokeFunction('convertToInteractive',\n",
              "                                                     [key], {});\n",
              "          if (!dataTable) return;\n",
              "\n",
              "          const docLinkHtml = 'Like what you see? Visit the ' +\n",
              "            '<a target=\"_blank\" href=https://colab.research.google.com/notebooks/data_table.ipynb>data table notebook</a>'\n",
              "            + ' to learn more about interactive tables.';\n",
              "          element.innerHTML = '';\n",
              "          dataTable['output_type'] = 'display_data';\n",
              "          await google.colab.output.renderOutput(dataTable, element);\n",
              "          const docLink = document.createElement('div');\n",
              "          docLink.innerHTML = docLinkHtml;\n",
              "          element.appendChild(docLink);\n",
              "        }\n",
              "      </script>\n",
              "    </div>\n",
              "  </div>\n",
              "  "
            ],
            "text/plain": [
              "             Open      High       Low  ...       MA21       MA63      MA252\n",
              "4857372  58714.31  58714.31  58686.00  ...  58695.262  58676.974  58717.263\n",
              "4857373  58683.97  58693.43  58683.97  ...  58693.564  58675.469  58717.926\n",
              "4857374  58693.43  58723.84  58693.43  ...  58698.178  58675.542  58718.662\n",
              "4857375  58742.18  58770.38  58742.18  ...  58709.824  58675.947  58719.380\n",
              "4857376  58767.75  58778.18  58755.97  ...  58718.698  58677.057  58720.382\n",
              "\n",
              "[5 rows x 29 columns]"
            ]
          },
          "metadata": {},
          "execution_count": 21
        }
      ]
    },
    {
      "cell_type": "code",
      "source": [
        "# excluyendo las columnas que no son necesarias para nuestra predicción.\n",
        "\n",
        "dataset=dataset.drop(['High','Low','Open', 'Volume_(Currency)','short_mavg','long_mavg'], axis=1)"
      ],
      "metadata": {
        "id": "9pQyODp9Enrf"
      },
      "execution_count": 22,
      "outputs": []
    },
    {
      "cell_type": "code",
      "source": [
        "dataset = dataset.dropna(axis=0)"
      ],
      "metadata": {
        "id": "LJCtdAMnE18n"
      },
      "execution_count": 23,
      "outputs": []
    },
    {
      "cell_type": "code",
      "source": [
        "dataset.tail()"
      ],
      "metadata": {
        "colab": {
          "base_uri": "https://localhost:8080/",
          "height": 270
        },
        "id": "YM1Q5iH6E50l",
        "outputId": "9062ead2-ead0-484c-e407-1f96a607cc74"
      },
      "execution_count": 24,
      "outputs": [
        {
          "output_type": "execute_result",
          "data": {
            "text/html": [
              "\n",
              "  <div id=\"df-eeac41d7-be6d-47e5-a085-206052321320\">\n",
              "    <div class=\"colab-df-container\">\n",
              "      <div>\n",
              "<style scoped>\n",
              "    .dataframe tbody tr th:only-of-type {\n",
              "        vertical-align: middle;\n",
              "    }\n",
              "\n",
              "    .dataframe tbody tr th {\n",
              "        vertical-align: top;\n",
              "    }\n",
              "\n",
              "    .dataframe thead th {\n",
              "        text-align: right;\n",
              "    }\n",
              "</style>\n",
              "<table border=\"1\" class=\"dataframe\">\n",
              "  <thead>\n",
              "    <tr style=\"text-align: right;\">\n",
              "      <th></th>\n",
              "      <th>Close</th>\n",
              "      <th>Volume_(BTC)</th>\n",
              "      <th>Weighted_Price</th>\n",
              "      <th>signal</th>\n",
              "      <th>EMA10</th>\n",
              "      <th>EMA30</th>\n",
              "      <th>EMA200</th>\n",
              "      <th>ROC10</th>\n",
              "      <th>ROC30</th>\n",
              "      <th>MOM10</th>\n",
              "      <th>MOM30</th>\n",
              "      <th>RSI10</th>\n",
              "      <th>RSI30</th>\n",
              "      <th>RSI200</th>\n",
              "      <th>%K10</th>\n",
              "      <th>%D10</th>\n",
              "      <th>%K30</th>\n",
              "      <th>%D30</th>\n",
              "      <th>%K200</th>\n",
              "      <th>%D200</th>\n",
              "      <th>MA21</th>\n",
              "      <th>MA63</th>\n",
              "      <th>MA252</th>\n",
              "    </tr>\n",
              "  </thead>\n",
              "  <tbody>\n",
              "    <tr>\n",
              "      <th>4857372</th>\n",
              "      <td>58686.00</td>\n",
              "      <td>1.384</td>\n",
              "      <td>58692.753</td>\n",
              "      <td>1.0</td>\n",
              "      <td>58691.231</td>\n",
              "      <td>58675.538</td>\n",
              "      <td>58722.003</td>\n",
              "      <td>-0.029</td>\n",
              "      <td>-0.077</td>\n",
              "      <td>19.46</td>\n",
              "      <td>-6.46</td>\n",
              "      <td>51.544</td>\n",
              "      <td>50.298</td>\n",
              "      <td>49.479</td>\n",
              "      <td>35.393</td>\n",
              "      <td>61.578</td>\n",
              "      <td>51.697</td>\n",
              "      <td>68.138</td>\n",
              "      <td>39.264</td>\n",
              "      <td>47.840</td>\n",
              "      <td>58695.262</td>\n",
              "      <td>58676.974</td>\n",
              "      <td>58717.263</td>\n",
              "    </tr>\n",
              "    <tr>\n",
              "      <th>4857373</th>\n",
              "      <td>58685.81</td>\n",
              "      <td>7.295</td>\n",
              "      <td>58693.227</td>\n",
              "      <td>1.0</td>\n",
              "      <td>58690.246</td>\n",
              "      <td>58676.201</td>\n",
              "      <td>58721.643</td>\n",
              "      <td>0.014</td>\n",
              "      <td>-0.061</td>\n",
              "      <td>-16.98</td>\n",
              "      <td>-45.15</td>\n",
              "      <td>51.497</td>\n",
              "      <td>50.284</td>\n",
              "      <td>49.478</td>\n",
              "      <td>35.232</td>\n",
              "      <td>44.602</td>\n",
              "      <td>51.583</td>\n",
              "      <td>57.317</td>\n",
              "      <td>34.155</td>\n",
              "      <td>39.806</td>\n",
              "      <td>58693.564</td>\n",
              "      <td>58675.469</td>\n",
              "      <td>58717.926</td>\n",
              "    </tr>\n",
              "    <tr>\n",
              "      <th>4857374</th>\n",
              "      <td>58723.84</td>\n",
              "      <td>1.706</td>\n",
              "      <td>58696.198</td>\n",
              "      <td>1.0</td>\n",
              "      <td>58696.354</td>\n",
              "      <td>58679.274</td>\n",
              "      <td>58721.665</td>\n",
              "      <td>0.136</td>\n",
              "      <td>-0.042</td>\n",
              "      <td>46.14</td>\n",
              "      <td>2.19</td>\n",
              "      <td>59.662</td>\n",
              "      <td>53.064</td>\n",
              "      <td>49.822</td>\n",
              "      <td>67.380</td>\n",
              "      <td>46.002</td>\n",
              "      <td>74.385</td>\n",
              "      <td>59.222</td>\n",
              "      <td>41.881</td>\n",
              "      <td>38.433</td>\n",
              "      <td>58698.178</td>\n",
              "      <td>58675.542</td>\n",
              "      <td>58718.662</td>\n",
              "    </tr>\n",
              "    <tr>\n",
              "      <th>4857375</th>\n",
              "      <td>58760.59</td>\n",
              "      <td>0.720</td>\n",
              "      <td>58761.866</td>\n",
              "      <td>1.0</td>\n",
              "      <td>58708.033</td>\n",
              "      <td>58684.520</td>\n",
              "      <td>58722.052</td>\n",
              "      <td>0.121</td>\n",
              "      <td>0.027</td>\n",
              "      <td>116.46</td>\n",
              "      <td>12.14</td>\n",
              "      <td>65.837</td>\n",
              "      <td>55.549</td>\n",
              "      <td>50.153</td>\n",
              "      <td>91.131</td>\n",
              "      <td>64.581</td>\n",
              "      <td>94.261</td>\n",
              "      <td>73.410</td>\n",
              "      <td>51.701</td>\n",
              "      <td>42.579</td>\n",
              "      <td>58709.824</td>\n",
              "      <td>58675.947</td>\n",
              "      <td>58719.380</td>\n",
              "    </tr>\n",
              "    <tr>\n",
              "      <th>4857376</th>\n",
              "      <td>58778.18</td>\n",
              "      <td>2.713</td>\n",
              "      <td>58764.349</td>\n",
              "      <td>1.0</td>\n",
              "      <td>58720.787</td>\n",
              "      <td>58690.563</td>\n",
              "      <td>58722.610</td>\n",
              "      <td>0.133</td>\n",
              "      <td>0.072</td>\n",
              "      <td>88.74</td>\n",
              "      <td>33.30</td>\n",
              "      <td>68.409</td>\n",
              "      <td>56.684</td>\n",
              "      <td>50.310</td>\n",
              "      <td>100.000</td>\n",
              "      <td>86.170</td>\n",
              "      <td>100.000</td>\n",
              "      <td>89.549</td>\n",
              "      <td>56.401</td>\n",
              "      <td>49.994</td>\n",
              "      <td>58718.698</td>\n",
              "      <td>58677.057</td>\n",
              "      <td>58720.382</td>\n",
              "    </tr>\n",
              "  </tbody>\n",
              "</table>\n",
              "</div>\n",
              "      <button class=\"colab-df-convert\" onclick=\"convertToInteractive('df-eeac41d7-be6d-47e5-a085-206052321320')\"\n",
              "              title=\"Convert this dataframe to an interactive table.\"\n",
              "              style=\"display:none;\">\n",
              "        \n",
              "  <svg xmlns=\"http://www.w3.org/2000/svg\" height=\"24px\"viewBox=\"0 0 24 24\"\n",
              "       width=\"24px\">\n",
              "    <path d=\"M0 0h24v24H0V0z\" fill=\"none\"/>\n",
              "    <path d=\"M18.56 5.44l.94 2.06.94-2.06 2.06-.94-2.06-.94-.94-2.06-.94 2.06-2.06.94zm-11 1L8.5 8.5l.94-2.06 2.06-.94-2.06-.94L8.5 2.5l-.94 2.06-2.06.94zm10 10l.94 2.06.94-2.06 2.06-.94-2.06-.94-.94-2.06-.94 2.06-2.06.94z\"/><path d=\"M17.41 7.96l-1.37-1.37c-.4-.4-.92-.59-1.43-.59-.52 0-1.04.2-1.43.59L10.3 9.45l-7.72 7.72c-.78.78-.78 2.05 0 2.83L4 21.41c.39.39.9.59 1.41.59.51 0 1.02-.2 1.41-.59l7.78-7.78 2.81-2.81c.8-.78.8-2.07 0-2.86zM5.41 20L4 18.59l7.72-7.72 1.47 1.35L5.41 20z\"/>\n",
              "  </svg>\n",
              "      </button>\n",
              "      \n",
              "  <style>\n",
              "    .colab-df-container {\n",
              "      display:flex;\n",
              "      flex-wrap:wrap;\n",
              "      gap: 12px;\n",
              "    }\n",
              "\n",
              "    .colab-df-convert {\n",
              "      background-color: #E8F0FE;\n",
              "      border: none;\n",
              "      border-radius: 50%;\n",
              "      cursor: pointer;\n",
              "      display: none;\n",
              "      fill: #1967D2;\n",
              "      height: 32px;\n",
              "      padding: 0 0 0 0;\n",
              "      width: 32px;\n",
              "    }\n",
              "\n",
              "    .colab-df-convert:hover {\n",
              "      background-color: #E2EBFA;\n",
              "      box-shadow: 0px 1px 2px rgba(60, 64, 67, 0.3), 0px 1px 3px 1px rgba(60, 64, 67, 0.15);\n",
              "      fill: #174EA6;\n",
              "    }\n",
              "\n",
              "    [theme=dark] .colab-df-convert {\n",
              "      background-color: #3B4455;\n",
              "      fill: #D2E3FC;\n",
              "    }\n",
              "\n",
              "    [theme=dark] .colab-df-convert:hover {\n",
              "      background-color: #434B5C;\n",
              "      box-shadow: 0px 1px 3px 1px rgba(0, 0, 0, 0.15);\n",
              "      filter: drop-shadow(0px 1px 2px rgba(0, 0, 0, 0.3));\n",
              "      fill: #FFFFFF;\n",
              "    }\n",
              "  </style>\n",
              "\n",
              "      <script>\n",
              "        const buttonEl =\n",
              "          document.querySelector('#df-eeac41d7-be6d-47e5-a085-206052321320 button.colab-df-convert');\n",
              "        buttonEl.style.display =\n",
              "          google.colab.kernel.accessAllowed ? 'block' : 'none';\n",
              "\n",
              "        async function convertToInteractive(key) {\n",
              "          const element = document.querySelector('#df-eeac41d7-be6d-47e5-a085-206052321320');\n",
              "          const dataTable =\n",
              "            await google.colab.kernel.invokeFunction('convertToInteractive',\n",
              "                                                     [key], {});\n",
              "          if (!dataTable) return;\n",
              "\n",
              "          const docLinkHtml = 'Like what you see? Visit the ' +\n",
              "            '<a target=\"_blank\" href=https://colab.research.google.com/notebooks/data_table.ipynb>data table notebook</a>'\n",
              "            + ' to learn more about interactive tables.';\n",
              "          element.innerHTML = '';\n",
              "          dataTable['output_type'] = 'display_data';\n",
              "          await google.colab.output.renderOutput(dataTable, element);\n",
              "          const docLink = document.createElement('div');\n",
              "          docLink.innerHTML = docLinkHtml;\n",
              "          element.appendChild(docLink);\n",
              "        }\n",
              "      </script>\n",
              "    </div>\n",
              "  </div>\n",
              "  "
            ],
            "text/plain": [
              "            Close  Volume_(BTC)  ...       MA63      MA252\n",
              "4857372  58686.00         1.384  ...  58676.974  58717.263\n",
              "4857373  58685.81         7.295  ...  58675.469  58717.926\n",
              "4857374  58723.84         1.706  ...  58675.542  58718.662\n",
              "4857375  58760.59         0.720  ...  58675.947  58719.380\n",
              "4857376  58778.18         2.713  ...  58677.057  58720.382\n",
              "\n",
              "[5 rows x 23 columns]"
            ]
          },
          "metadata": {},
          "execution_count": 24
        }
      ]
    },
    {
      "cell_type": "markdown",
      "source": [
        "<a id='3.4'></a>\n",
        "## 4.4. Visualización de datos"
      ],
      "metadata": {
        "id": "zf05ECksFFj6"
      }
    },
    {
      "cell_type": "code",
      "source": [
        "dataset[['Weighted_Price']].plot(grid=True, figsize=(13,6))\n",
        "plt.show()"
      ],
      "metadata": {
        "colab": {
          "base_uri": "https://localhost:8080/",
          "height": 387
        },
        "id": "2dSF9IPkE9AE",
        "outputId": "92094eae-a5c2-45f9-fa5a-4ded12f8029a"
      },
      "execution_count": 25,
      "outputs": [
        {
          "output_type": "display_data",
          "data": {
            "image/png": "[encoded data removed]",
            "text/plain": [
              "<Figure size 936x432 with 1 Axes>"
            ]
          },
          "metadata": {
            "needs_background": "light"
          }
        }
      ]
    },
    {
      "cell_type": "code",
      "source": [
        "plt.style.use('seaborn')\n",
        "# histogramas\n",
        "dataset.hist(sharex=False, sharey=False, xlabelsize=1, ylabelsize=1, figsize=(12,12))\n",
        "plt.show()"
      ],
      "metadata": {
        "colab": {
          "base_uri": "https://localhost:8080/",
          "height": 706
        },
        "id": "QUMn0gY2FMvk",
        "outputId": "801e9053-36be-4242-8662-fef7dd8585c3"
      },
      "execution_count": 26,
      "outputs": [
        {
          "output_type": "display_data",
          "data": {
            "image/png": "[encoded data removed]",
            "text/plain": [
              "<Figure size 864x864 with 25 Axes>"
            ]
          },
          "metadata": {}
        }
      ]
    },
    {
      "cell_type": "code",
      "source": [
        "fig = plt.figure(figsize=(13,6))\n",
        "plot = dataset.groupby(['signal']).size().plot(kind='barh', color='red')\n",
        "plt.show()"
      ],
      "metadata": {
        "colab": {
          "base_uri": "https://localhost:8080/",
          "height": 387
        },
        "id": "Ru-XCPvPF7Sp",
        "outputId": "b1fff069-3b33-4da3-a266-ad0087f247bd"
      },
      "execution_count": 27,
      "outputs": [
        {
          "output_type": "display_data",
          "data": {
            "image/png": "[encoded data removed]",
            "text/plain": [
              "<Figure size 936x432 with 1 Axes>"
            ]
          },
          "metadata": {}
        }
      ]
    },
    {
      "cell_type": "markdown",
      "source": [
        "* La variable pronosticada es ascendente al tamaño total de los datos, lo que significa que el número de señales de compra fue mayor que el número de señales de venta."
      ],
      "metadata": {
        "id": "U_u3dLtuGYW2"
      }
    },
    {
      "cell_type": "code",
      "source": [
        "# correlacion\n",
        "correlation = dataset.corr()\n",
        "plt.figure(figsize=(15,15))\n",
        "plt.title('Correlation Matrix')\n",
        "sns.heatmap(correlation, vmax=1, square=True,annot=True,cmap='cubehelix')"
      ],
      "metadata": {
        "colab": {
          "base_uri": "https://localhost:8080/",
          "height": 874
        },
        "id": "jWvClPYfGKPq",
        "outputId": "c0e2386a-8d02-47e6-af58-a67024f72a3a"
      },
      "execution_count": 28,
      "outputs": [
        {
          "output_type": "execute_result",
          "data": {
            "text/plain": [
              "<matplotlib.axes._subplots.AxesSubplot at 0x7ff8fd9eb950>"
            ]
          },
          "metadata": {},
          "execution_count": 28
        },
        {
          "output_type": "display_data",
          "data": {
            "image/png": "[encoded data removed]",
            "text/plain": [
              "<Figure size 1080x1080 with 2 Axes>"
            ]
          },
          "metadata": {}
        }
      ]
    },
    {
      "cell_type": "markdown",
      "source": [
        "<a id='4'></a>\n",
        "# 5. Evaluar algoritmos y modelos"
      ],
      "metadata": {
        "id": "rYfY-cPXG7Bf"
      }
    },
    {
      "cell_type": "markdown",
      "source": [
        "<a id='4.1'></a>\n",
        "## 5.1. Train Test Split\n",
        "Dividimos el conjunto de datos en un 80% de entrenamiento y un 20% de prueba.\n"
      ],
      "metadata": {
        "id": "HCUEuOq0HA-2"
      }
    },
    {
      "cell_type": "code",
      "source": [
        "# dividir el conjunto de datos de validación para el final  \n",
        "\n",
        "subset_dataset= dataset.iloc[-100000:]\n",
        "Y= subset_dataset[\"signal\"]\n",
        "X = subset_dataset.loc[:, dataset.columns != 'signal'] \n",
        "\n",
        "validation_size = 0.2\n",
        "seed = 1\n",
        "\n",
        "X_train, X_validation, Y_train, Y_validation = train_test_split(X, Y, test_size=validation_size, random_state=1)"
      ],
      "metadata": {
        "id": "6amIh2VXGo5h"
      },
      "execution_count": 29,
      "outputs": []
    },
    {
      "cell_type": "markdown",
      "source": [
        "<a id='4.2'></a>\n",
        "## 5.2. Opciones de prueba y métricas de evaluación\n"
      ],
      "metadata": {
        "id": "wuM60ENzIOoM"
      }
    },
    {
      "cell_type": "code",
      "source": [
        "# test options for classification\n",
        "num_folds = 10\n",
        "seed = 7\n",
        "scoring = 'accuracy'\n",
        "#scoring = 'precision'\n",
        "#scoring = 'recall'\n",
        "#scoring ='neg_log_loss'\n",
        "#scoring = 'roc_auc'"
      ],
      "metadata": {
        "id": "DoAfIPPwIRpE"
      },
      "execution_count": 32,
      "outputs": []
    },
    {
      "cell_type": "markdown",
      "source": [
        "<a id='4.3'></a>\n",
        "## 5.3. Comparar modelos y algoritmos"
      ],
      "metadata": {
        "id": "WWEq2HoFHnK0"
      }
    },
    {
      "cell_type": "markdown",
      "source": [
        "<a id='4.3.1'></a>\n",
        "### 5.3.1. Modelos"
      ],
      "metadata": {
        "id": "5xWhC3uFHskU"
      }
    },
    {
      "cell_type": "code",
      "source": [
        "# spot check the algorithms\n",
        "models = []\n",
        "models.append(('LR', LogisticRegression(n_jobs=-1)))\n",
        "models.append(('LDA', LinearDiscriminantAnalysis()))\n",
        "models.append(('KNN', KNeighborsClassifier()))\n",
        "models.append(('CART', DecisionTreeClassifier()))\n",
        "models.append(('NB', GaussianNB()))\n",
        "\n",
        "#Neural Network\n",
        "models.append(('NN', MLPClassifier()))\n",
        "\n",
        "#Ensable Models \n",
        "\n",
        "# Boosting methods\n",
        "models.append(('AB', AdaBoostClassifier()))\n",
        "models.append(('GBM', GradientBoostingClassifier()))\n",
        "# Bagging methods\n",
        "models.append(('RF', RandomForestClassifier(n_jobs=-1)))"
      ],
      "metadata": {
        "id": "P6BMo4EpHgzh"
      },
      "execution_count": 33,
      "outputs": []
    },
    {
      "cell_type": "markdown",
      "source": [
        "### K-folds cross validation"
      ],
      "metadata": {
        "id": "ZHnKxjKqH5Vk"
      }
    },
    {
      "cell_type": "code",
      "source": [
        "results = []\n",
        "names = []\n",
        "\n",
        "for name, model in models:\n",
        "    kfold = KFold(n_splits=num_folds, random_state=seed, shuffle=True)\n",
        "    cv_results = cross_val_score(model, X_train, Y_train, cv=kfold, scoring=scoring)\n",
        "    results.append(cv_results)\n",
        "    names.append(name)\n",
        "    msg = \"%s: %f (%f)\" % (name, cv_results.mean(), cv_results.std())\n",
        "    print(msg)"
      ],
      "metadata": {
        "colab": {
          "base_uri": "https://localhost:8080/"
        },
        "id": "Q7DV09ZRH0s_",
        "outputId": "6e2a93f4-181d-4c7f-9949-8b9d9e6ef4b2"
      },
      "execution_count": 34,
      "outputs": [
        {
          "output_type": "stream",
          "name": "stdout",
          "text": [
            "LR: 0.933438 (0.020925)\n",
            "LDA: 0.918713 (0.003308)\n",
            "KNN: 0.928600 (0.002702)\n",
            "CART: 0.898175 (0.002611)\n",
            "NB: 0.800000 (0.004392)\n",
            "NN: 0.807125 (0.039166)\n",
            "AB: 0.914312 (0.002408)\n",
            "GBM: 0.923800 (0.002724)\n",
            "RF: 0.929763 (0.002796)\n"
          ]
        }
      ]
    },
    {
      "cell_type": "code",
      "source": [
        "# compare algorithms\n",
        "fig = plt.figure()\n",
        "fig.suptitle('Algorithm Comparison')\n",
        "ax = fig.add_subplot(111)\n",
        "plt.boxplot(results)\n",
        "ax.set_xticklabels(names)\n",
        "fig.set_size_inches(15,8)\n",
        "plt.show()"
      ],
      "metadata": {
        "colab": {
          "base_uri": "https://localhost:8080/",
          "height": 540
        },
        "id": "Je5l_NOUH_gQ",
        "outputId": "3611654f-9c14-4a80-bac9-0e1312426904"
      },
      "execution_count": 35,
      "outputs": [
        {
          "output_type": "display_data",
          "data": {
            "image/png": "[encoded data removed]",
            "text/plain": [
              "<Figure size 1080x576 with 1 Axes>"
            ]
          },
          "metadata": {}
        }
      ]
    },
    {
      "cell_type": "markdown",
      "source": [
        "<a id='5'></a>\n",
        "# 6. Ajuste del modelo y búsqueda en la cuadrícula"
      ],
      "metadata": {
        "id": "g6qKuR7vIl_C"
      }
    },
    {
      "cell_type": "markdown",
      "source": [
        "Se selecciona el bosque aleatorio para la búsqueda en la cuadrícula porque es uno de los mejores modelos de todos"
      ],
      "metadata": {
        "id": "tIEQGaCGPsy9"
      }
    },
    {
      "cell_type": "code",
      "source": [
        "# Grid Search: Random Forest Classifier\n",
        "'''\n",
        "n_estimators : int (por defecto=100)\n",
        "    El número de etapas de refuerzo a realizar. \n",
        "    El refuerzo de gradiente es bastante robusto al sobreajuste, por lo que un número grande suele dar lugar a un mejor rendimiento.\n",
        "max_depth : entero, opcional (por defecto=3)\n",
        "    profundidad máxima de los estimadores de regresión individuales. \n",
        "    La profundidad máxima limita el número de nodos del árbol. \n",
        "    Ajuste este parámetro para obtener el mejor rendimiento; el mejor valor depende de la interacción de las variables de entrada    \n",
        "criterion : cadena, opcional (por defecto=\"gini\")\n",
        "    La función para medir la calidad de una división. \n",
        "    Los criterios admitidos son \"gini\" para la impureza de Gini y \"entropía\" para la ganancia de información. \n",
        "    \n",
        "'''   \n",
        "scaler = StandardScaler().fit(X_train)\n",
        "rescaledX = scaler.transform(X_train)\n",
        "n_estimators = [20,80]\n",
        "max_depth= [5,10]\n",
        "criterion = [\"gini\",\"entropy\"]\n",
        "param_grid = dict(n_estimators=n_estimators, max_depth=max_depth, criterion = criterion )\n",
        "model = RandomForestClassifier(n_jobs=-1)\n",
        "kfold = KFold(n_splits=num_folds, random_state=seed, shuffle=True)\n",
        "grid = GridSearchCV(estimator=model, param_grid=param_grid, scoring=scoring, cv=kfold)\n",
        "grid_result = grid.fit(rescaledX, Y_train)\n",
        "\n",
        "# Imprimir Resultados\n",
        "print(\"Best: %f using %s\" % (grid_result.best_score_, grid_result.best_params_))\n",
        "means = grid_result.cv_results_['mean_test_score']\n",
        "stds = grid_result.cv_results_['std_test_score']\n",
        "params = grid_result.cv_results_['params']\n",
        "ranks = grid_result.cv_results_['rank_test_score']\n",
        "for mean, stdev, param, rank in zip(means, stds, params, ranks):\n",
        "    print(\"#%d %f (%f) with: %r\" % (rank, mean, stdev, param))"
      ],
      "metadata": {
        "colab": {
          "base_uri": "https://localhost:8080/"
        },
        "id": "Sc0O81pIImsj",
        "outputId": "6c1c597b-c4ac-4f2e-9abb-fee1c7ad36be"
      },
      "execution_count": 37,
      "outputs": [
        {
          "output_type": "stream",
          "name": "stdout",
          "text": [
            "Best: 0.917075 using {'criterion': 'gini', 'max_depth': 10, 'n_estimators': 80}\n",
            "#7 0.887862 (0.003683) with: {'criterion': 'gini', 'max_depth': 5, 'n_estimators': 20}\n",
            "#5 0.889300 (0.003985) with: {'criterion': 'gini', 'max_depth': 5, 'n_estimators': 80}\n",
            "#3 0.914788 (0.002472) with: {'criterion': 'gini', 'max_depth': 10, 'n_estimators': 20}\n",
            "#1 0.917075 (0.002085) with: {'criterion': 'gini', 'max_depth': 10, 'n_estimators': 80}\n",
            "#8 0.885150 (0.005581) with: {'criterion': 'entropy', 'max_depth': 5, 'n_estimators': 20}\n",
            "#6 0.887963 (0.004194) with: {'criterion': 'entropy', 'max_depth': 5, 'n_estimators': 80}\n",
            "#4 0.914437 (0.002794) with: {'criterion': 'entropy', 'max_depth': 10, 'n_estimators': 20}\n",
            "#2 0.916038 (0.001630) with: {'criterion': 'entropy', 'max_depth': 10, 'n_estimators': 80}\n"
          ]
        }
      ]
    },
    {
      "cell_type": "markdown",
      "source": [
        "<a id='6'></a>\n",
        "# 7. Finalizar el modelo"
      ],
      "metadata": {
        "id": "kMidfYYrJMcL"
      }
    },
    {
      "cell_type": "markdown",
      "source": [
        "Finalizar el modelo con los mejores parámetros encontrados durante el paso de ajuste."
      ],
      "metadata": {
        "id": "eODx0tVRJQjJ"
      }
    },
    {
      "cell_type": "markdown",
      "source": [
        "<a id='6.1'></a>\n",
        "## 7.1. Resultados en el conjunto de datos de prueba"
      ],
      "metadata": {
        "id": "MO3-a0GpJXFw"
      }
    },
    {
      "cell_type": "code",
      "source": [
        "model = RandomForestClassifier(criterion='gini', n_estimators=80,max_depth=10,n_jobs=-1) # rbf is default kernel\n",
        "#model = LogisticRegression() \n",
        "model.fit(X_train, Y_train)"
      ],
      "metadata": {
        "colab": {
          "base_uri": "https://localhost:8080/"
        },
        "id": "l9THSzLFJNE1",
        "outputId": "19360675-7f82-4c21-bb9c-07b3738ddd1b"
      },
      "execution_count": 38,
      "outputs": [
        {
          "output_type": "execute_result",
          "data": {
            "text/plain": [
              "RandomForestClassifier(max_depth=10, n_estimators=80, n_jobs=-1)"
            ]
          },
          "metadata": {},
          "execution_count": 38
        }
      ]
    },
    {
      "cell_type": "code",
      "source": [
        "# estimate accuracy on validation set\n",
        "predictions = model.predict(X_validation)\n",
        "\n",
        "print(f'Accuracy score: {accuracy_score(Y_validation, predictions)}')\n",
        "print('\\n')\n",
        "print(f'Confusion matrix: \\n{confusion_matrix(Y_validation, predictions)}')\n",
        "print('\\n')\n",
        "print(f'Classification report: \\n{classification_report(Y_validation, predictions)}')"
      ],
      "metadata": {
        "colab": {
          "base_uri": "https://localhost:8080/"
        },
        "id": "wjAdIOa8JoDW",
        "outputId": "f5b50b76-4974-4661-e8ba-1dee91b81c00"
      },
      "execution_count": 39,
      "outputs": [
        {
          "output_type": "stream",
          "name": "stdout",
          "text": [
            "Accuracy score: 0.9171\n",
            "\n",
            "\n",
            "Confusion matrix: \n",
            "[[8555  858]\n",
            " [ 800 9787]]\n",
            "\n",
            "\n",
            "Classification report: \n",
            "              precision    recall  f1-score   support\n",
            "\n",
            "         0.0       0.91      0.91      0.91      9413\n",
            "         1.0       0.92      0.92      0.92     10587\n",
            "\n",
            "    accuracy                           0.92     20000\n",
            "   macro avg       0.92      0.92      0.92     20000\n",
            "weighted avg       0.92      0.92      0.92     20000\n",
            "\n"
          ]
        }
      ]
    },
    {
      "cell_type": "code",
      "source": [
        "df_cm = pd.DataFrame(confusion_matrix(Y_validation, predictions), columns=np.unique(Y_validation), index = np.unique(Y_validation))\n",
        "df_cm.index.name = 'Actual'\n",
        "df_cm.columns.name = 'Predicted'\n",
        "sns.heatmap(df_cm, cmap=\"Blues\", annot=True,annot_kws={\"size\": 16})# font sizes"
      ],
      "metadata": {
        "colab": {
          "base_uri": "https://localhost:8080/",
          "height": 379
        },
        "id": "z6-jl6BZKMub",
        "outputId": "95943770-6df2-4de9-ff9c-29f3f72419b5"
      },
      "execution_count": 40,
      "outputs": [
        {
          "output_type": "execute_result",
          "data": {
            "text/plain": [
              "<matplotlib.axes._subplots.AxesSubplot at 0x7ff8fcc8be90>"
            ]
          },
          "metadata": {},
          "execution_count": 40
        },
        {
          "output_type": "display_data",
          "data": {
            "image/png": "[encoded data removed]",
            "text/plain": [
              "<Figure size 576x396 with 2 Axes>"
            ]
          },
          "metadata": {}
        }
      ]
    },
    {
      "cell_type": "markdown",
      "source": [
        "<a id='6.2'></a>\n",
        "## 7.2. Intuición de las variables/importancia de las características\n",
        "Veamos la importancia de las características del modelo"
      ],
      "metadata": {
        "id": "Rn8BoEOTKSdm"
      }
    },
    {
      "cell_type": "code",
      "source": [
        "Importance = pd.DataFrame({'Importance':model.feature_importances_*100}, index=X.columns)\n",
        "Importance.sort_values('Importance', axis=0, ascending=True).plot(kind='barh', color='r' )\n",
        "plt.xlabel('Variable Importance')"
      ],
      "metadata": {
        "colab": {
          "base_uri": "https://localhost:8080/",
          "height": 379
        },
        "id": "2vYg6A6LKTNX",
        "outputId": "b457c5b3-35e4-4b38-894f-f9caecd4045b"
      },
      "execution_count": 41,
      "outputs": [
        {
          "output_type": "execute_result",
          "data": {
            "text/plain": [
              "Text(0.5, 0, 'Variable Importance')"
            ]
          },
          "metadata": {},
          "execution_count": 41
        },
        {
          "output_type": "display_data",
          "data": {
            "image/png": "[encoded data removed]",
            "text/plain": [
              "<Figure size 576x396 with 1 Axes>"
            ]
          },
          "metadata": {}
        }
      ]
    },
    {
      "cell_type": "markdown",
      "source": [
        "<a id='7'></a>\n",
        "## 8. Resultados del Backtesting "
      ],
      "metadata": {
        "id": "Neg9n0PCKb_m"
      }
    },
    {
      "cell_type": "code",
      "source": [
        "# Crear una columna para los rendimientos de la estrategia multiplicando los rendimientos diarios por la posición que se tenía al cierre del día anterior\n",
        "backtestdata = pd.DataFrame(index=X_validation.index)\n",
        "#backtestdata = pd.DataFrame()\n",
        "backtestdata['signal_pred'] = predictions\n",
        "backtestdata['signal_actual'] = Y_validation\n",
        "backtestdata['Market Returns'] = X_validation['Close'].pct_change()\n",
        "backtestdata['Actual Returns'] = backtestdata['Market Returns'] * backtestdata['signal_actual'].shift(1)\n",
        "backtestdata['Strategy Returns'] = backtestdata['Market Returns'] * backtestdata['signal_pred'].shift(1)\n",
        "backtestdata=backtestdata.reset_index()\n",
        "backtestdata.head()\n",
        "backtestdata[['Strategy Returns','Actual Returns']].cumsum().hist()\n",
        "backtestdata[['Strategy Returns','Actual Returns']].cumsum().plot()"
      ],
      "metadata": {
        "colab": {
          "base_uri": "https://localhost:8080/",
          "height": 710
        },
        "id": "D98QHe3-KgFv",
        "outputId": "4c34fc35-b857-4d00-9e33-3ed0ef897344"
      },
      "execution_count": 42,
      "outputs": [
        {
          "output_type": "execute_result",
          "data": {
            "text/plain": [
              "<matplotlib.axes._subplots.AxesSubplot at 0x7ff8fdfb3250>"
            ]
          },
          "metadata": {},
          "execution_count": 42
        },
        {
          "output_type": "display_data",
          "data": {
            "image/png": "[encoded data removed]",
            "text/plain": [
              "<Figure size 576x396 with 2 Axes>"
            ]
          },
          "metadata": {}
        },
        {
          "output_type": "display_data",
          "data": {
            "image/png": "[encoded data removed]",
            "text/plain": [
              "<Figure size 576x396 with 1 Axes>"
            ]
          },
          "metadata": {}
        }
      ]
    }
  ]
}